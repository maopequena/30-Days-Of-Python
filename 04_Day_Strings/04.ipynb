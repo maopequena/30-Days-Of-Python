{
 "cells": [
  {
   "cell_type": "markdown",
   "metadata": {},
   "source": [
    "# Strings\n",
    "\n",
    "Any data type written as text is a string. Any data under single, double or triple quote are strings.\n",
    "\n",
    "Use quotes (') or double quotes (\") to delimit a string.\n",
    "Use single or double quotes three times (''' or \"\"\") for several lines of text."
   ]
  },
  {
   "cell_type": "code",
   "execution_count": 19,
   "metadata": {},
   "outputs": [
    {
     "name": "stdout",
     "output_type": "stream",
     "text": [
      "P\n",
      "1\n"
     ]
    }
   ],
   "source": [
    "letter = 'P'                # A string could be a single character or a bunch of texts\n",
    "print(letter)               # P\n",
    "print(len(letter))          # 1"
   ]
  },
  {
   "cell_type": "code",
   "execution_count": 20,
   "metadata": {},
   "outputs": [
    {
     "name": "stdout",
     "output_type": "stream",
     "text": [
      "Hello, World!\n",
      "13\n"
     ]
    }
   ],
   "source": [
    "greeting = 'Hello, World!'  # String could be made using a single or double quote,\"Hello, World!\"\n",
    "print(greeting)             # Hello, World!\n",
    "print(len(greeting))        # 13"
   ]
  },
  {
   "cell_type": "code",
   "execution_count": 21,
   "metadata": {},
   "outputs": [
    {
     "name": "stdout",
     "output_type": "stream",
     "text": [
      "I hope you are enjoying the 30 days of Python Challenge!\n"
     ]
    }
   ],
   "source": [
    "sentence = \"I hope you are enjoying the 30 days of Python Challenge!\"\n",
    "print(sentence)"
   ]
  },
  {
   "cell_type": "code",
   "execution_count": 22,
   "metadata": {},
   "outputs": [
    {
     "name": "stdout",
     "output_type": "stream",
     "text": [
      "I am a teacher and enjoy teaching.\n",
      "I didn't find anything as rewarding as empowering people.\n",
      "That is why I created 30 days of python.\n"
     ]
    }
   ],
   "source": [
    "multiline_string = '''I am a teacher and enjoy teaching.\n",
    "I didn't find anything as rewarding as empowering people.\n",
    "That is why I created 30 days of python.'''\n",
    "print(multiline_string)"
   ]
  },
  {
   "cell_type": "markdown",
   "metadata": {},
   "source": [
    "#### String Concatenation"
   ]
  },
  {
   "cell_type": "code",
   "execution_count": 23,
   "metadata": {},
   "outputs": [
    {
     "name": "stdout",
     "output_type": "stream",
     "text": [
      "Lizandra Silva\n",
      "8\n",
      "5\n",
      "True\n",
      "14\n"
     ]
    }
   ],
   "source": [
    "first_name = 'Lizandra'\n",
    "last_name = 'Silva'\n",
    "space = ' '\n",
    "full_name = first_name  +  space + last_name\n",
    "print(full_name)                                # Lizandra Silva\n",
    "\n",
    "# Checking the length of a string using the len() built-in function\n",
    "\n",
    "print(len(first_name))                          # 8\n",
    "print(len(last_name))                           # 5\n",
    "print(len(first_name) > len(last_name))         # True\n",
    "print(len(full_name))                           # 14"
   ]
  },
  {
   "cell_type": "markdown",
   "metadata": {},
   "source": [
    "#### Escape Sequences in Strings\n",
    "\n",
    "In Python and other programming languages, the character \\ (backslash) followed by another character is an escape sequence. These are the most common escape characters:\n",
    "\n",
    "\\n: for a new line\n",
    "\n",
    "\\t: Tab, means 4 spaces\n",
    "\n",
    "\\\\: Back slash\n",
    "\n",
    "\\': Single quote (')\n",
    "\n",
    "\\\": Double quote (\")"
   ]
  },
  {
   "cell_type": "code",
   "execution_count": 25,
   "metadata": {},
   "outputs": [
    {
     "name": "stdout",
     "output_type": "stream",
     "text": [
      "I hope everyone is enjoying the Python Challenge.\n",
      "Are you?\n",
      "Days\tTopics\tExercises\n",
      "Day 1\t5\t5\n",
      "Day 2\t6\t20\n",
      "Day 3\t5\t23\n",
      "Day 4\t1\t35\n",
      "This is a backslash  symbol (\\)\n",
      "Every programming language teaches \"Hello, World!\" first.\n"
     ]
    }
   ],
   "source": [
    "print('I hope everyone is enjoying the Python Challenge.\\nAre you?')       # line break\n",
    "print('Days\\tTopics\\tExercises')                                            # adding tab space or 4 spaces \n",
    "print('Day 1\\t5\\t5')\n",
    "print('Day 2\\t6\\t20')\n",
    "print('Day 3\\t5\\t23')\n",
    "print('Day 4\\t1\\t35')\n",
    "print('This is a backslash  symbol (\\\\)')                                   # to write a backslash\n",
    "print('Every programming language teaches \\\"Hello, World!\\\" first.')        # to write a double quote inside a single quote"
   ]
  },
  {
   "cell_type": "markdown",
   "metadata": {},
   "source": [
    "#### String formatting\n",
    "\n",
    "##### Old Style String Formatting (% Operator)\n",
    "\n",
    "The \"%\" operator is used to format a set of variables enclosed in a \"tuple\" (a fixed size list), together with a format string, which contains normal text together with \"argument specifiers\", special symbols like \"%s\", \"%d\", \"%f\", \"%.number of digitsf\".\n",
    "\n",
    "%s - String (or any object with a string representation, like numbers)\n",
    "\n",
    "%d - Integers\n",
    "\n",
    "%f - Floating point numbers\n",
    "\n",
    "\"%.number of digitsf\" - Floating point numbers with fixed precision"
   ]
  },
  {
   "cell_type": "code",
   "execution_count": 33,
   "metadata": {},
   "outputs": [
    {
     "name": "stdout",
     "output_type": "stream",
     "text": [
      "The area of a circle with a radius of 10 is 314.00.\n",
      "I am Lizandra Silva. I am learning Python.\n",
      "The following are Python libraries: ['Django', 'Flask', 'NumPy', 'Matplotlib', 'Pandas']\n"
     ]
    }
   ],
   "source": [
    "# Strings  and numbers\n",
    "\n",
    "radius = int(10)\n",
    "pi = float(3.14)\n",
    "area = pi * radius ** 2\n",
    "formated_stringandnumber = 'The area of a circle with a radius of %d is %.2f.' %(radius, area)   # 0.2f refers to the 2 significant digits after the point\n",
    "print(formated_stringandnumber)\n",
    "\n",
    "# Strings only\n",
    "\n",
    "first_name = 'Lizandra'\n",
    "last_name = 'Silva'\n",
    "language = 'Python'\n",
    "formated_string = 'I am %s %s. I am learning %s.' %(first_name, last_name, language)\n",
    "print(formated_string)\n",
    "\n",
    "# Lists\n",
    "\n",
    "python_libraries = ['Django', 'Flask', 'NumPy', 'Matplotlib','Pandas']\n",
    "formated_string = 'The following are Python libraries: %s' %(python_libraries)\n",
    "print(formated_string)                                                                  # \"The following are python libraries: 'Django', 'Flask', 'NumPy', 'Matplotlib','Pandas'\""
   ]
  },
  {
   "cell_type": "markdown",
   "metadata": {},
   "source": [
    "##### New Style String Formatting (str.format)"
   ]
  },
  {
   "cell_type": "code",
   "execution_count": 34,
   "metadata": {},
   "outputs": [
    {
     "name": "stdout",
     "output_type": "stream",
     "text": [
      "I am Lizandra Silva. I am learning Python\n",
      "4 + 3 = 7\n",
      "4 - 3 = 1\n",
      "4 * 3 = 12\n",
      "4 / 3 = 1.33\n",
      "4 % 3 = 1\n",
      "4 // 3 = 1\n",
      "4 ** 3 = 64\n",
      "The area of a circle with a radius of 10 is 314.00.\n"
     ]
    }
   ],
   "source": [
    "first_name = 'Lizandra'\n",
    "last_name = 'Silva'\n",
    "language = 'Python'\n",
    "formated_string = 'I am {} {}. I am learning {}'.format(first_name, last_name, language)\n",
    "print(formated_string)\n",
    "\n",
    "\n",
    "a = 4\n",
    "b = 3\n",
    "\n",
    "print('{} + {} = {}'.format(a, b, a + b))\n",
    "print('{} - {} = {}'.format(a, b, a - b))\n",
    "print('{} * {} = {}'.format(a, b, a * b))\n",
    "print('{} / {} = {:.2f}'.format(a, b, a / b))   # limits it to two digits after the decimal point\n",
    "print('{} % {} = {}'.format(a, b, a % b))\n",
    "print('{} // {} = {}'.format(a, b, a // b))\n",
    "print('{} ** {} = {}'.format(a, b, a ** b))\n",
    "\n",
    "# Strings  and numbers\n",
    "\n",
    "radius = 10\n",
    "pi = 3.14\n",
    "area = pi * radius ** 2\n",
    "formated_stringandnumber = 'The area of a circle with a radius of {} is {:.2f}.'.format(radius, area)   # 2 digits after the decimal point\n",
    "print(formated_stringandnumber)"
   ]
  },
  {
   "cell_type": "markdown",
   "metadata": {},
   "source": [
    "#### String Interpolation / f-Strings (Python 3.6+)\n",
    "\n",
    "String starts with 'f' and we can inject the data as we see fit."
   ]
  },
  {
   "cell_type": "code",
   "execution_count": 35,
   "metadata": {},
   "outputs": [
    {
     "name": "stdout",
     "output_type": "stream",
     "text": [
      "4 + 3 = 7\n",
      "4 - 3 = 1\n",
      "4 * 3 = 12\n",
      "4 / 3 = 1.33\n",
      "4 % 3 = 1\n",
      "4 // 3 = 1\n",
      "4 ** 3 = 64\n"
     ]
    }
   ],
   "source": [
    "a = 4\n",
    "b = 3\n",
    "print(f'{a} + {b} = {a +b}')\n",
    "print(f'{a} - {b} = {a - b}')\n",
    "print(f'{a} * {b} = {a * b}')\n",
    "print(f'{a} / {b} = {a / b:.2f}')\n",
    "print(f'{a} % {b} = {a % b}')\n",
    "print(f'{a} // {b} = {a // b}')\n",
    "print(f'{a} ** {b} = {a ** b}')"
   ]
  },
  {
   "cell_type": "markdown",
   "metadata": {},
   "source": [
    "#### Unpacking Characters"
   ]
  },
  {
   "cell_type": "code",
   "execution_count": 36,
   "metadata": {},
   "outputs": [
    {
     "name": "stdout",
     "output_type": "stream",
     "text": [
      "P\n",
      "y\n",
      "t\n",
      "h\n",
      "o\n",
      "n\n"
     ]
    }
   ],
   "source": [
    "language = 'Python'\n",
    "a,b,c,d,e,f = language # unpacking sequence characters into variables\n",
    "print(a) # P\n",
    "print(b) # y\n",
    "print(c) # t\n",
    "print(d) # h\n",
    "print(e) # o\n",
    "print(f) # n"
   ]
  },
  {
   "cell_type": "code",
   "execution_count": 37,
   "metadata": {},
   "outputs": [
    {
     "name": "stdout",
     "output_type": "stream",
     "text": [
      "L\n",
      "i\n",
      "z\n",
      "a\n",
      "n\n",
      "d\n",
      "r\n",
      "a\n"
     ]
    }
   ],
   "source": [
    "language = 'Lizandra'\n",
    "a,b,c,d,e,f,g,h = language # unpacking sequence characters into variables\n",
    "print(a) # P\n",
    "print(b) # y\n",
    "print(c) # t\n",
    "print(d) # h\n",
    "print(e) # o\n",
    "print(f) # n\n",
    "print(g)\n",
    "print(h)"
   ]
  },
  {
   "cell_type": "markdown",
   "metadata": {},
   "source": [
    "#### Accessing Characters by Index\n",
    "\n",
    "## In programming counting starts from zero and it is possible to use negative indexing to start from the right."
   ]
  },
  {
   "cell_type": "code",
   "execution_count": 38,
   "metadata": {},
   "outputs": [
    {
     "name": "stdout",
     "output_type": "stream",
     "text": [
      "P\n",
      "y\n",
      "n\n"
     ]
    }
   ],
   "source": [
    "language = 'Python'\n",
    "\n",
    "first_letter = language[0]\n",
    "second_letter = language[1]\n",
    "last_index = len(language) - 1\n",
    "last_letter = language[last_index]\n",
    "\n",
    "print(first_letter) # P\n",
    "print(second_letter) # y\n",
    "print(last_letter) # n"
   ]
  },
  {
   "cell_type": "code",
   "execution_count": 39,
   "metadata": {},
   "outputs": [
    {
     "name": "stdout",
     "output_type": "stream",
     "text": [
      "n\n",
      "o\n"
     ]
    }
   ],
   "source": [
    "language = 'Python'\n",
    "\n",
    "last_letter = language[-1]\n",
    "second_last = language[-2]\n",
    "\n",
    "print(last_letter) # n\n",
    "print(second_last) # o"
   ]
  },
  {
   "cell_type": "markdown",
   "metadata": {},
   "source": [
    "#### Slicing Python Strings\n",
    "\n",
    "In python we can slice strings into substrings."
   ]
  },
  {
   "cell_type": "code",
   "execution_count": 40,
   "metadata": {},
   "outputs": [
    {
     "name": "stdout",
     "output_type": "stream",
     "text": [
      "Pyt\n",
      "hon\n",
      "hon\n",
      "hon\n"
     ]
    }
   ],
   "source": [
    "language = 'Python'\n",
    "\n",
    "first_three = language[0:3]     # starts at index 0 and up to 3 but doesn't include 3\n",
    "last_three = language[3:6]      # starts at index 3 and up to 6 but doesn't include 3\n",
    "\n",
    "print(first_three)              #Pyt\n",
    "print(last_three)               # hon\n",
    "\n",
    "# Another way\n",
    "\n",
    "last_three = language[-3:]      # negative indexing\n",
    "last_three = language[3:]       # from 3 to last, not including 3\n",
    "\n",
    "print(last_three)               # hon\n",
    "print(last_three)               # hon"
   ]
  },
  {
   "cell_type": "markdown",
   "metadata": {},
   "source": [
    "#### Reversing a String"
   ]
  },
  {
   "cell_type": "code",
   "execution_count": 41,
   "metadata": {},
   "outputs": [
    {
     "name": "stdout",
     "output_type": "stream",
     "text": [
      "!dlroW ,olleH\n"
     ]
    }
   ],
   "source": [
    "greeting = 'Hello, World!'\n",
    "\n",
    "print(greeting[::-1]) # !dlroW ,olleH"
   ]
  },
  {
   "cell_type": "markdown",
   "metadata": {},
   "source": [
    "#### Skipping Characters While Slicing"
   ]
  },
  {
   "cell_type": "code",
   "execution_count": 43,
   "metadata": {},
   "outputs": [
    {
     "name": "stdout",
     "output_type": "stream",
     "text": [
      "Pto\n"
     ]
    }
   ],
   "source": [
    "language = 'Python'\n",
    "skipping = language[0:6:2]   # this is what's called a step argument\n",
    "print(skipping)              # Pto"
   ]
  },
  {
   "cell_type": "markdown",
   "metadata": {},
   "source": [
    "### String Methods\n",
    "\n",
    "#### `capitalize()`: Converts the first character of the string to capital letter"
   ]
  },
  {
   "cell_type": "code",
   "execution_count": 44,
   "metadata": {},
   "outputs": [
    {
     "name": "stdout",
     "output_type": "stream",
     "text": [
      "Thirty days of python\n"
     ]
    }
   ],
   "source": [
    "challenge = 'thirty days of python'\n",
    "print(challenge.capitalize())       # 'Thirty days of python'"
   ]
  },
  {
   "cell_type": "code",
   "execution_count": 47,
   "metadata": {},
   "outputs": [
    {
     "name": "stdout",
     "output_type": "stream",
     "text": [
      "Thirty days of python\n"
     ]
    }
   ],
   "source": [
    "challenge = 'thirty days of python'\n",
    "print(challenge.capitalize()) # 'Thirty days of python'"
   ]
  },
  {
   "cell_type": "markdown",
   "metadata": {},
   "source": [
    "#### `count()`: returns occurrences of substring in string, `count(substring, start=.., end=..)`. The start is a starting indexing for counting and end is the last index to count."
   ]
  },
  {
   "cell_type": "code",
   "execution_count": 50,
   "metadata": {},
   "outputs": [
    {
     "name": "stdout",
     "output_type": "stream",
     "text": [
      "3\n",
      "1\n",
      "2\n"
     ]
    }
   ],
   "source": [
    "challenge = 'thirty days of python'\n",
    "print(challenge.count('y'))         # 3\n",
    "print(challenge.count('y', 7, 14))  # starting at index 7, ending in index 14: result  = 1, \n",
    "print(challenge.count('th'))        # 2"
   ]
  },
  {
   "cell_type": "markdown",
   "metadata": {},
   "source": [
    "#### `endswith()`: checks if a string ends with a specified ending"
   ]
  },
  {
   "cell_type": "code",
   "execution_count": 51,
   "metadata": {},
   "outputs": [
    {
     "name": "stdout",
     "output_type": "stream",
     "text": [
      "True\n",
      "False\n"
     ]
    }
   ],
   "source": [
    "challenge = 'thirty days of python'\n",
    "print(challenge.endswith('on'))   # True\n",
    "print(challenge.endswith('tion')) # False"
   ]
  },
  {
   "cell_type": "markdown",
   "metadata": {},
   "source": [
    "#### `expandtabs()`: replaces the \"tab\" character with spaces, default tab size is 4. It takes tab size argument"
   ]
  },
  {
   "cell_type": "code",
   "execution_count": 52,
   "metadata": {},
   "outputs": [
    {
     "name": "stdout",
     "output_type": "stream",
     "text": [
      "thirty  days    of      python\n",
      "thirty    days      of        python\n"
     ]
    }
   ],
   "source": [
    "challenge = 'thirty\\tdays\\tof\\tpython'\n",
    "print(challenge.expandtabs())   # 'thirty  days    of      python'\n",
    "print(challenge.expandtabs(10)) # 'thirty    days      of        python'"
   ]
  },
  {
   "cell_type": "markdown",
   "metadata": {},
   "source": [
    "#### `find()`: returns the index of the first occurrence of a substring, if not found returns -1"
   ]
  },
  {
   "cell_type": "code",
   "execution_count": 54,
   "metadata": {},
   "outputs": [
    {
     "name": "stdout",
     "output_type": "stream",
     "text": [
      "5\n",
      "0\n",
      "-1\n"
     ]
    }
   ],
   "source": [
    "challenge = 'thirty days of python'\n",
    "print(challenge.find('y'))  # 5\n",
    "print(challenge.find('th')) # 0\n",
    "print(challenge.find('l')) # -1"
   ]
  },
  {
   "cell_type": "markdown",
   "metadata": {},
   "source": [
    "#### `rfind()`: returns the index of the last occurrence of a substring, if not found returns -1"
   ]
  },
  {
   "cell_type": "code",
   "execution_count": 55,
   "metadata": {},
   "outputs": [
    {
     "name": "stdout",
     "output_type": "stream",
     "text": [
      "16\n",
      "17\n",
      "-1\n"
     ]
    }
   ],
   "source": [
    "challenge = 'thirty days of python'\n",
    "print(challenge.rfind('y'))  # 16\n",
    "print(challenge.rfind('th')) # 17\n",
    "print(challenge.rfind('l')) # -1"
   ]
  },
  {
   "cell_type": "markdown",
   "metadata": {},
   "source": [
    "#### `format()`: formats string into a nicer output"
   ]
  },
  {
   "cell_type": "code",
   "execution_count": 61,
   "metadata": {},
   "outputs": [
    {
     "name": "stdout",
     "output_type": "stream",
     "text": [
      "I am Lizandra Silva. I am 44 years old. I am a translator. I live in Brasil.\n",
      "The area of a circle with radius 10 is 314.0\n"
     ]
    }
   ],
   "source": [
    "first_name = 'Lizandra'\n",
    "last_name = 'Silva'\n",
    "age = 44\n",
    "job = 'translator'\n",
    "country = 'Brasil'\n",
    "sentence = 'I am {} {}. I am {} years old. I am a {}. I live in {}.'.format(first_name, last_name, age, job, country)\n",
    "print(sentence)\n",
    "\n",
    "radius = 10\n",
    "pi = 3.14\n",
    "area = pi * radius ** 2\n",
    "result = 'The area of a circle with radius {} is {}'.format(radius, area)\n",
    "print(result) # The area of a circle with radius 10 is 314"
   ]
  },
  {
   "cell_type": "markdown",
   "metadata": {},
   "source": [
    "#### `index()`: returns the LOWEST index of a substring, additional arguments indicate starting and ending index (default 0 and string length - 1). If the substring is not found it raises a valueError.\n",
    "\n",
    "#### `rindex()`: returns the HIGHEST index of a substring, additional arguments indicate starting and ending index (default 0 and string length - 1)"
   ]
  },
  {
   "cell_type": "code",
   "execution_count": 64,
   "metadata": {},
   "outputs": [
    {
     "name": "stdout",
     "output_type": "stream",
     "text": [
      "7\n"
     ]
    }
   ],
   "source": [
    "challenge = 'thirty days of python'\n",
    "sub_string = 'da'\n",
    "print(challenge.index(sub_string))  # 7"
   ]
  },
  {
   "cell_type": "code",
   "execution_count": 67,
   "metadata": {},
   "outputs": [
    {
     "ename": "ValueError",
     "evalue": "substring not found",
     "output_type": "error",
     "traceback": [
      "\u001b[1;31m---------------------------------------------------------------------------\u001b[0m",
      "\u001b[1;31mValueError\u001b[0m                                Traceback (most recent call last)",
      "Cell \u001b[1;32mIn[67], line 1\u001b[0m\n\u001b[1;32m----> 1\u001b[0m \u001b[38;5;28mprint\u001b[39m(\u001b[43mchallenge\u001b[49m\u001b[38;5;241;43m.\u001b[39;49m\u001b[43mindex\u001b[49m\u001b[43m(\u001b[49m\u001b[43msub_string\u001b[49m\u001b[43m,\u001b[49m\u001b[43m \u001b[49m\u001b[38;5;241;43m9\u001b[39;49m\u001b[43m)\u001b[49m) \u001b[38;5;66;03m# error\u001b[39;00m\n",
      "\u001b[1;31mValueError\u001b[0m: substring not found"
     ]
    }
   ],
   "source": [
    "print(challenge.index(sub_string, 9)) # error"
   ]
  },
  {
   "cell_type": "code",
   "execution_count": 69,
   "metadata": {},
   "outputs": [
    {
     "name": "stdout",
     "output_type": "stream",
     "text": [
      "8\n"
     ]
    }
   ],
   "source": [
    "challenge = 'thirty days of python'\n",
    "sub_string = 'ay'\n",
    "print(challenge.rindex(sub_string))  # 8"
   ]
  },
  {
   "cell_type": "code",
   "execution_count": 72,
   "metadata": {},
   "outputs": [
    {
     "name": "stdout",
     "output_type": "stream",
     "text": [
      "8\n"
     ]
    }
   ],
   "source": [
    "print(challenge.rindex(sub_string, 3)) # error"
   ]
  },
  {
   "cell_type": "markdown",
   "metadata": {},
   "source": [
    "#### `isalnum()`: checks for alphanumeric characters"
   ]
  },
  {
   "cell_type": "code",
   "execution_count": 73,
   "metadata": {},
   "outputs": [
    {
     "name": "stdout",
     "output_type": "stream",
     "text": [
      "True\n",
      "True\n",
      "False\n",
      "False\n"
     ]
    }
   ],
   "source": [
    "challenge1 = 'ThirtyDaysPython'\n",
    "print(challenge1.isalnum()) # True\n",
    "\n",
    "challenge2 = '30DaysPython'\n",
    "print(challenge2.isalnum()) # True\n",
    "\n",
    "challenge3 = 'thirty days of python'\n",
    "print(challenge3.isalnum()) # False, space is not an alphanumeric character\n",
    "\n",
    "challenge4 = 'thirty days of python 2024'\n",
    "print(challenge4.isalnum()) # False"
   ]
  },
  {
   "cell_type": "markdown",
   "metadata": {},
   "source": [
    "#### `isalpha()`: checks if all string elements are alphabetical characters (a-z and A-Z)"
   ]
  },
  {
   "cell_type": "code",
   "execution_count": 74,
   "metadata": {},
   "outputs": [
    {
     "name": "stdout",
     "output_type": "stream",
     "text": [
      "False\n",
      "True\n",
      "False\n"
     ]
    }
   ],
   "source": [
    "challenge5 = 'thirty days of python'\n",
    "print(challenge5.isalpha())         # False, space is once again excluded\n",
    "\n",
    "challenge6 = 'ThirtyDaysPython'\n",
    "print(challenge6.isalpha())         # True\n",
    "\n",
    "num1 = '123'\n",
    "print(num1.isalpha())               # False"
   ]
  },
  {
   "cell_type": "markdown",
   "metadata": {},
   "source": [
    "#### `isdecimal()`: checks if all characters in a string are decimal (0-9). Accepts unicode for numbers"
   ]
  },
  {
   "cell_type": "code",
   "execution_count": 75,
   "metadata": {},
   "outputs": [
    {
     "name": "stdout",
     "output_type": "stream",
     "text": [
      "False\n",
      "True\n",
      "True\n",
      "False\n"
     ]
    }
   ],
   "source": [
    "challenge7 = 'thirty days of python'\n",
    "print(challenge7.isdecimal())  # False\n",
    "\n",
    "challenge8 = '123'\n",
    "print(challenge8.isdecimal())  # True\n",
    "\n",
    "challenge9 = '\\u00B2'\n",
    "print(challenge9.isdigit())   # False\n",
    "\n",
    "challenge10 = '12 3'\n",
    "print(challenge10.isdecimal())  # False, space not allowed"
   ]
  },
  {
   "cell_type": "markdown",
   "metadata": {},
   "source": [
    "#### `isdigit()`: checks if all characters in a string are numbers (0-9 and some other unicode characters for numbers)"
   ]
  },
  {
   "cell_type": "code",
   "execution_count": 76,
   "metadata": {},
   "outputs": [
    {
     "name": "stdout",
     "output_type": "stream",
     "text": [
      "False\n",
      "True\n",
      "True\n"
     ]
    }
   ],
   "source": [
    "challenge11 = 'Thirty'\n",
    "print(challenge11.isdigit()) # False\n",
    "\n",
    "challenge12 = '30'\n",
    "print(challenge12.isdigit())   # True\n",
    "\n",
    "challenge13 = '\\u00B2'\n",
    "print(challenge13.isdigit())   # True"
   ]
  },
  {
   "cell_type": "markdown",
   "metadata": {},
   "source": [
    "#### `isnumeric()`: checks if all characters in a string are numbers or number related (just like isdigit(), but it accepts more symbols, like ½)"
   ]
  },
  {
   "cell_type": "code",
   "execution_count": 82,
   "metadata": {},
   "outputs": [
    {
     "name": "stdout",
     "output_type": "stream",
     "text": [
      "True\n",
      "True\n",
      "False\n"
     ]
    }
   ],
   "source": [
    "num2 = '10'\n",
    "print(num2.isnumeric()) # True\n",
    "\n",
    "num3 = '\\u00BD' # ½\n",
    "print(num3.isnumeric()) # True\n",
    "\n",
    "num4 = '10.5'\n",
    "print(num4.isnumeric()) # False"
   ]
  },
  {
   "cell_type": "markdown",
   "metadata": {},
   "source": [
    "#### `isidentifier()`: checks for a valid identifier, i.e. if a string is a valid variable name. Meaning this \"identifier\" can be used as a variable name."
   ]
  },
  {
   "cell_type": "code",
   "execution_count": 83,
   "metadata": {},
   "outputs": [
    {
     "name": "stdout",
     "output_type": "stream",
     "text": [
      "False\n",
      "True\n"
     ]
    }
   ],
   "source": [
    "challenge14 = '30DaysOfPython'\n",
    "print(challenge14.isidentifier()) # False, because it starts with a number\n",
    "\n",
    "challenge15 = 'thirty_days_of_python'\n",
    "print(challenge15.isidentifier()) # True"
   ]
  },
  {
   "cell_type": "markdown",
   "metadata": {},
   "source": [
    "#### `islower()`: checks if all alphabetical characters in the string are lowercase\n",
    "\n",
    "#### `isupper()`: checks if all alphabetical characters in the string are uppercase"
   ]
  },
  {
   "cell_type": "code",
   "execution_count": 84,
   "metadata": {},
   "outputs": [
    {
     "name": "stdout",
     "output_type": "stream",
     "text": [
      "True\n",
      "False\n"
     ]
    }
   ],
   "source": [
    "challenge16 = 'thirty days of python'\n",
    "print(challenge16.islower()) # True\n",
    "\n",
    "challenge17 = 'Thirty days of python'\n",
    "print(challenge17.islower()) # False"
   ]
  },
  {
   "cell_type": "code",
   "execution_count": 86,
   "metadata": {},
   "outputs": [
    {
     "name": "stdout",
     "output_type": "stream",
     "text": [
      "False\n",
      "True\n",
      "False\n"
     ]
    }
   ],
   "source": [
    "challenge18 = 'thirty days of python'\n",
    "print(challenge18.isupper()) #  False\n",
    "\n",
    "challenge19 = 'THIRTY DAYS OF PYTHON'\n",
    "print(challenge19.isupper()) # True\n",
    "\n",
    "challenge20 = 'Thirty Days of Python'\n",
    "print(challenge20.isupper()) #False"
   ]
  },
  {
   "cell_type": "markdown",
   "metadata": {},
   "source": [
    "#### `join()`: returns a concatenated string"
   ]
  },
  {
   "cell_type": "code",
   "execution_count": 88,
   "metadata": {},
   "outputs": [
    {
     "name": "stdout",
     "output_type": "stream",
     "text": [
      "HTML CSS JavaScript React\n"
     ]
    }
   ],
   "source": [
    "web_tech1 = ['HTML', 'CSS', 'JavaScript', 'React']\n",
    "result = ' '.join(web_tech1)\n",
    "print(result) # 'HTML CSS JavaScript React'"
   ]
  },
  {
   "cell_type": "code",
   "execution_count": 89,
   "metadata": {},
   "outputs": [
    {
     "name": "stdout",
     "output_type": "stream",
     "text": [
      "HTML# CSS# JavaScript# React\n"
     ]
    }
   ],
   "source": [
    "web_tech2 = ['HTML', 'CSS', 'JavaScript', 'React']\n",
    "result = '# '.join(web_tech2)\n",
    "print(result) # 'HTML# CSS# JavaScript# React'"
   ]
  },
  {
   "cell_type": "markdown",
   "metadata": {},
   "source": [
    "#### `strip()`: removes all given characters starting from the beginning and end of the string. NEEDS to be a sequence of characters in the beginning or end, it doesn't strip letters from the middle."
   ]
  },
  {
   "cell_type": "code",
   "execution_count": 93,
   "metadata": {},
   "outputs": [
    {
     "name": "stdout",
     "output_type": "stream",
     "text": [
      "irty days of py\n"
     ]
    }
   ],
   "source": [
    "challenge21 = 'thirty days of pythoonnn'\n",
    "print(challenge21.strip('noth')) # 'irty days of py'"
   ]
  },
  {
   "cell_type": "markdown",
   "metadata": {},
   "source": [
    "#### ``replace()``: replaces a substring within a given string"
   ]
  },
  {
   "cell_type": "code",
   "execution_count": 95,
   "metadata": {},
   "outputs": [
    {
     "name": "stdout",
     "output_type": "stream",
     "text": [
      "thirty days of learning\n"
     ]
    }
   ],
   "source": [
    "challenge22 = 'thirty days of python'\n",
    "print(challenge22.replace('python', 'learning')) # ('python', 'coding') = 'thirty days of coding'; ('python', 'learning') = 'thirty days of learning'"
   ]
  },
  {
   "cell_type": "markdown",
   "metadata": {},
   "source": [
    "#### ``split()``: splits the string, using a given string or a space as a separator"
   ]
  },
  {
   "cell_type": "code",
   "execution_count": 106,
   "metadata": {},
   "outputs": [
    {
     "name": "stdout",
     "output_type": "stream",
     "text": [
      "['thirty', 'days', 'of', 'python']\n",
      "['thirty days', 'of', 'python']\n"
     ]
    }
   ],
   "source": [
    "challenge23 = 'thirty days of python'\n",
    "print(challenge23.split()) # ['thirty', 'days', 'of', 'python']\n",
    "\n",
    "challenge24 = 'thirty days, of, python'\n",
    "print(challenge24.split(', ')) # ['thirty', 'days', 'of', 'python']"
   ]
  },
  {
   "cell_type": "markdown",
   "metadata": {},
   "source": [
    "#### ``title()``: returns a title cased string, i.e. Camel Case"
   ]
  },
  {
   "cell_type": "code",
   "execution_count": 108,
   "metadata": {},
   "outputs": [
    {
     "name": "stdout",
     "output_type": "stream",
     "text": [
      "Thirty Days Of Python\n"
     ]
    }
   ],
   "source": [
    "challenge25 = 'thirty days of python'\n",
    "print(challenge25.title()) # Thirty Days Of Python"
   ]
  },
  {
   "cell_type": "markdown",
   "metadata": {},
   "source": [
    "#### ``swapcase()``: converts all uppercase characters to lowercase and vice-versa"
   ]
  },
  {
   "cell_type": "code",
   "execution_count": 109,
   "metadata": {},
   "outputs": [
    {
     "name": "stdout",
     "output_type": "stream",
     "text": [
      "THIRTY DAYS OF PYTHON\n",
      "tHIRTY dAYS oF pYTHON\n"
     ]
    }
   ],
   "source": [
    "challenge26 = 'thirty days of python'\n",
    "print(challenge26.swapcase())   # THIRTY DAYS OF PYTHON\n",
    "challenge27 = 'Thirty Days Of Python'\n",
    "print(challenge27.swapcase())  # tHIRTY dAYS oF pYTHON"
   ]
  },
  {
   "cell_type": "markdown",
   "metadata": {},
   "source": [
    "#### ``startswith()``: checks if a string starts with the specified string"
   ]
  },
  {
   "cell_type": "code",
   "execution_count": 110,
   "metadata": {},
   "outputs": [
    {
     "name": "stdout",
     "output_type": "stream",
     "text": [
      "True\n",
      "False\n"
     ]
    }
   ],
   "source": [
    "challenge28 = 'thirty days of python'\n",
    "print(challenge28.startswith('thirty')) # True\n",
    "\n",
    "challenge29 = '30 days of python'\n",
    "print(challenge29.startswith('thirty')) # False"
   ]
  },
  {
   "cell_type": "markdown",
   "metadata": {},
   "source": [
    "# EXERCISES\n",
    "\n",
    "##### 1. Concatenate the strings 'Thirty', 'Days', 'Of', 'Python' into a single string."
   ]
  },
  {
   "cell_type": "code",
   "execution_count": 3,
   "metadata": {},
   "outputs": [
    {
     "name": "stdout",
     "output_type": "stream",
     "text": [
      "Thirty Days of Python\n"
     ]
    }
   ],
   "source": [
    "thirty = 'Thirty'\n",
    "days = 'Days'\n",
    "of = 'of'\n",
    "python = 'Python'\n",
    "space = ' '\n",
    "\n",
    "concatenation = thirty + space + days + space + of + space + python\n",
    "print(concatenation)"
   ]
  },
  {
   "cell_type": "markdown",
   "metadata": {},
   "source": [
    "2. Concatenate the strings 'Coding', 'For' , 'All' into a single string."
   ]
  },
  {
   "cell_type": "code",
   "execution_count": 4,
   "metadata": {},
   "outputs": [
    {
     "name": "stdout",
     "output_type": "stream",
     "text": [
      "Coding for All\n"
     ]
    }
   ],
   "source": [
    "coding = 'Coding'\n",
    "_for = 'for'\n",
    "_all = 'All'\n",
    "space = ' '\n",
    "\n",
    "conc = coding + space + _for + space + _all\n",
    "print(conc)"
   ]
  },
  {
   "cell_type": "markdown",
   "metadata": {},
   "source": [
    "3. Declare a variable named company and assign it to an initial value \"Coding For All\".\n",
    "4. Print the variable company using ``print()``."
   ]
  },
  {
   "cell_type": "code",
   "execution_count": 5,
   "metadata": {},
   "outputs": [
    {
     "name": "stdout",
     "output_type": "stream",
     "text": [
      "Coding for All\n"
     ]
    }
   ],
   "source": [
    "company = conc\n",
    "\n",
    "print(company)"
   ]
  },
  {
   "cell_type": "markdown",
   "metadata": {},
   "source": [
    "5. Print the length of the company string using ``len()`` method and ``print()``."
   ]
  },
  {
   "cell_type": "code",
   "execution_count": 6,
   "metadata": {},
   "outputs": [
    {
     "name": "stdout",
     "output_type": "stream",
     "text": [
      "14\n"
     ]
    }
   ],
   "source": [
    "print(len(company))"
   ]
  },
  {
   "cell_type": "markdown",
   "metadata": {},
   "source": [
    "6. Change all the characters to uppercase letters using `upper()` method."
   ]
  },
  {
   "cell_type": "code",
   "execution_count": 7,
   "metadata": {},
   "outputs": [
    {
     "name": "stdout",
     "output_type": "stream",
     "text": [
      "CODING FOR ALL\n"
     ]
    }
   ],
   "source": [
    "print(company.upper())"
   ]
  },
  {
   "cell_type": "markdown",
   "metadata": {},
   "source": [
    "7. Change all the characters to lowercase letters using `lower()` method."
   ]
  },
  {
   "cell_type": "code",
   "execution_count": 8,
   "metadata": {},
   "outputs": [
    {
     "name": "stdout",
     "output_type": "stream",
     "text": [
      "coding for all\n"
     ]
    }
   ],
   "source": [
    "print(company.lower())"
   ]
  },
  {
   "cell_type": "markdown",
   "metadata": {},
   "source": [
    "8. Use the `capitalize()`, `title()`, and `swapcase()` methods to format the value of the string Coding For All."
   ]
  },
  {
   "cell_type": "code",
   "execution_count": 10,
   "metadata": {},
   "outputs": [
    {
     "name": "stdout",
     "output_type": "stream",
     "text": [
      "Coding for all\n",
      "Coding For All\n",
      "cODING FOR aLL\n"
     ]
    }
   ],
   "source": [
    "print(conc.capitalize())\n",
    "print(conc.title())\n",
    "print(conc.swapcase())"
   ]
  },
  {
   "cell_type": "markdown",
   "metadata": {},
   "source": [
    "9. Cut (or slice) out the first word of the 'Coding For All' string."
   ]
  },
  {
   "cell_type": "code",
   "execution_count": 16,
   "metadata": {},
   "outputs": [
    {
     "name": "stdout",
     "output_type": "stream",
     "text": [
      "for All\n"
     ]
    }
   ],
   "source": [
    "last4out = conc[-7:]\n",
    "print(last4out)"
   ]
  },
  {
   "cell_type": "markdown",
   "metadata": {},
   "source": [
    "10. Check if the string 'Coding For All' contains the word 'Coding' using the methods `index()`, `find()` or other methods."
   ]
  },
  {
   "cell_type": "code",
   "execution_count": 18,
   "metadata": {},
   "outputs": [
    {
     "name": "stdout",
     "output_type": "stream",
     "text": [
      "0\n",
      "7\n",
      "-1\n",
      "11\n"
     ]
    }
   ],
   "source": [
    "print(conc.index('Coding'))\n",
    "print(conc.rindex('for'))\n",
    "print(conc.find('all'))\n",
    "print(conc.rfind('All'))"
   ]
  },
  {
   "cell_type": "markdown",
   "metadata": {},
   "source": [
    "11. Replace the word 'Coding' in the string 'Coding For All' to 'Python'."
   ]
  },
  {
   "cell_type": "code",
   "execution_count": 22,
   "metadata": {},
   "outputs": [
    {
     "name": "stdout",
     "output_type": "stream",
     "text": [
      "Python for All\n"
     ]
    }
   ],
   "source": [
    "conc_replaced1 = conc.replace('Coding', 'Python')\n",
    "print(conc_replaced1)"
   ]
  },
  {
   "cell_type": "markdown",
   "metadata": {},
   "source": [
    "12. Change 'Python for All' to 'Python for Everyone' using the `replace()` method or other methods."
   ]
  },
  {
   "cell_type": "code",
   "execution_count": 24,
   "metadata": {},
   "outputs": [
    {
     "name": "stdout",
     "output_type": "stream",
     "text": [
      "Python for Everyone\n"
     ]
    }
   ],
   "source": [
    "conc_replaced2 = conc_replaced1.replace('All', 'Everyone')\n",
    "\n",
    "print(conc_replaced2)"
   ]
  },
  {
   "cell_type": "markdown",
   "metadata": {},
   "source": [
    "13. Split the string 'Coding For All' using space as the separator (`split()`)."
   ]
  },
  {
   "cell_type": "code",
   "execution_count": 25,
   "metadata": {},
   "outputs": [
    {
     "name": "stdout",
     "output_type": "stream",
     "text": [
      "['Coding', 'for', 'All']\n"
     ]
    }
   ],
   "source": [
    "print(conc.split())"
   ]
  },
  {
   "cell_type": "markdown",
   "metadata": {},
   "source": [
    "14. \"Facebook, Google, Microsoft, Apple, IBM, Oracle, Amazon\" split the string at the comma."
   ]
  },
  {
   "cell_type": "code",
   "execution_count": 29,
   "metadata": {},
   "outputs": [
    {
     "name": "stdout",
     "output_type": "stream",
     "text": [
      "['Facebook Google', 'Microsoft', 'Apple', 'IBM', 'Oracle', 'Amazon']\n"
     ]
    }
   ],
   "source": [
    "techCompanies = 'Facebook Google, Microsoft, Apple, IBM, Oracle, Amazon'\n",
    "\n",
    "print(techCompanies.split(', '))"
   ]
  },
  {
   "cell_type": "markdown",
   "metadata": {},
   "source": [
    "15. What is the character at index 0 in the string Coding For All?"
   ]
  },
  {
   "cell_type": "code",
   "execution_count": 32,
   "metadata": {},
   "outputs": [
    {
     "name": "stdout",
     "output_type": "stream",
     "text": [
      "C\n"
     ]
    }
   ],
   "source": [
    "first_index = conc[0]\n",
    "\n",
    "print(first_index)"
   ]
  },
  {
   "cell_type": "markdown",
   "metadata": {},
   "source": [
    "16. What is the last index of the string Coding For All."
   ]
  },
  {
   "cell_type": "code",
   "execution_count": 33,
   "metadata": {},
   "outputs": [
    {
     "name": "stdout",
     "output_type": "stream",
     "text": [
      "13\n"
     ]
    }
   ],
   "source": [
    "newLastIndex = len(conc) - 1\n",
    "print(newLastIndex)"
   ]
  },
  {
   "cell_type": "markdown",
   "metadata": {},
   "source": [
    "17. What character is at index 10 in \"Coding For All\" string.\n",
    "\n",
    "' ' (shows empty in results)\n"
   ]
  },
  {
   "cell_type": "code",
   "execution_count": 35,
   "metadata": {},
   "outputs": [
    {
     "name": "stdout",
     "output_type": "stream",
     "text": [
      " \n"
     ]
    }
   ],
   "source": [
    "tenth_index = conc[10]\n",
    "\n",
    "print(tenth_index)"
   ]
  },
  {
   "cell_type": "markdown",
   "metadata": {},
   "source": [
    "18. Create an acronym or an abbreviation for the name 'Python For Everyone'."
   ]
  },
  {
   "cell_type": "code",
   "execution_count": 40,
   "metadata": {},
   "outputs": [
    {
     "name": "stdout",
     "output_type": "stream",
     "text": [
      "PfE\n"
     ]
    }
   ],
   "source": [
    "conc_replaced2 = 'Python for Everyone'\n",
    "abbr1 = conc_replaced2[0]\n",
    "abbr2 = conc_replaced2[7]\n",
    "abbr3 = conc_replaced2[11]\n",
    "\n",
    "concAbbr = abbr1 + abbr2 + abbr3\n",
    "\n",
    "print(concAbbr)"
   ]
  },
  {
   "cell_type": "markdown",
   "metadata": {},
   "source": [
    "19. Create an acronym or an abbreviation for the name 'Coding For All'."
   ]
  },
  {
   "cell_type": "code",
   "execution_count": 43,
   "metadata": {},
   "outputs": [
    {
     "name": "stdout",
     "output_type": "stream",
     "text": [
      "CfA\n"
     ]
    }
   ],
   "source": [
    "conc = 'Coding for All'\n",
    "abbr4 = conc[0]\n",
    "abbr5 = conc[7]\n",
    "abbr6 = conc[11]\n",
    "\n",
    "concAbbr2 = abbr4 + abbr5 + abbr6\n",
    "\n",
    "print(concAbbr2)"
   ]
  },
  {
   "cell_type": "markdown",
   "metadata": {},
   "source": [
    "20. Use `index()` to determine the position of the first occurrence of C in Coding For All."
   ]
  },
  {
   "cell_type": "code",
   "execution_count": 44,
   "metadata": {},
   "outputs": [
    {
     "name": "stdout",
     "output_type": "stream",
     "text": [
      "0\n"
     ]
    }
   ],
   "source": [
    "print(conc.index('C'))"
   ]
  },
  {
   "cell_type": "markdown",
   "metadata": {},
   "source": [
    "21. Use index to determine the position of the first occurrence of F in Coding For All."
   ]
  },
  {
   "cell_type": "code",
   "execution_count": 47,
   "metadata": {},
   "outputs": [
    {
     "name": "stdout",
     "output_type": "stream",
     "text": [
      "7\n"
     ]
    }
   ],
   "source": [
    "print(conc.index('f'))"
   ]
  },
  {
   "cell_type": "markdown",
   "metadata": {},
   "source": [
    "22. Use `rfind()` to determine the position of the last occurrence of l in Coding For All People."
   ]
  },
  {
   "cell_type": "code",
   "execution_count": 49,
   "metadata": {},
   "outputs": [
    {
     "name": "stdout",
     "output_type": "stream",
     "text": [
      "13\n",
      "3\n"
     ]
    }
   ],
   "source": [
    "print(conc.rfind('l'))\n",
    "print(conc.rfind('i'))"
   ]
  },
  {
   "cell_type": "markdown",
   "metadata": {},
   "source": [
    "23. Use index or find to find the position of the first occurrence of the word 'because' in the following sentence: 'You cannot end a sentence with because because because is a conjunction'"
   ]
  },
  {
   "cell_type": "code",
   "execution_count": 50,
   "metadata": {},
   "outputs": [
    {
     "name": "stdout",
     "output_type": "stream",
     "text": [
      "31\n"
     ]
    }
   ],
   "source": [
    "sentence = 'You cannot end a sentence with because because because is a conjunction'\n",
    "\n",
    "print(sentence.index('because'))"
   ]
  },
  {
   "cell_type": "markdown",
   "metadata": {},
   "source": [
    "24. Use rindex to find the position of the last occurrence of the word because in the following sentence: 'You cannot end a sentence with because because because is a conjunction'"
   ]
  },
  {
   "cell_type": "code",
   "execution_count": 51,
   "metadata": {},
   "outputs": [
    {
     "name": "stdout",
     "output_type": "stream",
     "text": [
      "47\n"
     ]
    }
   ],
   "source": [
    "print(sentence.rindex('because'))"
   ]
  },
  {
   "cell_type": "markdown",
   "metadata": {},
   "source": [
    "25. Slice out the phrase 'because because because' in the following sentence: 'You cannot end a sentence with because because because is a conjunction'"
   ]
  },
  {
   "cell_type": "code",
   "execution_count": 65,
   "metadata": {},
   "outputs": [
    {
     "name": "stdout",
     "output_type": "stream",
     "text": [
      "31\n",
      "53\n"
     ]
    }
   ],
   "source": [
    "print(sentence.index('b'))\n",
    "print(sentence.rindex('e'))"
   ]
  },
  {
   "cell_type": "code",
   "execution_count": 64,
   "metadata": {},
   "outputs": [
    {
     "name": "stdout",
     "output_type": "stream",
     "text": [
      "You cannot end a sentence with  is a conjunction\n"
     ]
    }
   ],
   "source": [
    "removingBecauses1 = sentence[0:31]\n",
    "removingBecauses2 = sentence[54:]\n",
    "\n",
    "print(removingBecauses1 + removingBecauses2)"
   ]
  },
  {
   "cell_type": "markdown",
   "metadata": {},
   "source": [
    "26. Find the position of the first occurrence of the word 'because' in the following sentence: 'You cannot end a sentence with because because because is a conjunction'"
   ]
  },
  {
   "cell_type": "code",
   "execution_count": 66,
   "metadata": {},
   "outputs": [
    {
     "name": "stdout",
     "output_type": "stream",
     "text": [
      "31\n"
     ]
    }
   ],
   "source": [
    "print(sentence.find('because'))"
   ]
  },
  {
   "cell_type": "markdown",
   "metadata": {},
   "source": [
    "27. Slice out the phrase 'because because because' in the following sentence: 'You cannot end a sentence with because because because is a conjunction'\n",
    "\n",
    "DONE\n",
    "\n",
    "28. Does ''Coding For All' start with a substring Coding?"
   ]
  },
  {
   "cell_type": "code",
   "execution_count": 67,
   "metadata": {},
   "outputs": [
    {
     "name": "stdout",
     "output_type": "stream",
     "text": [
      "True\n"
     ]
    }
   ],
   "source": [
    "print(conc.startswith('Coding'))"
   ]
  },
  {
   "cell_type": "markdown",
   "metadata": {},
   "source": [
    "29. Does 'Coding For All' end with a substring coding?"
   ]
  },
  {
   "cell_type": "code",
   "execution_count": 68,
   "metadata": {},
   "outputs": [
    {
     "name": "stdout",
     "output_type": "stream",
     "text": [
      "False\n"
     ]
    }
   ],
   "source": [
    "print(conc.endswith('coding'))"
   ]
  },
  {
   "cell_type": "markdown",
   "metadata": {},
   "source": [
    "30. '   Coding For All      '  , remove the left and right trailing spaces in the given string."
   ]
  },
  {
   "cell_type": "code",
   "execution_count": 69,
   "metadata": {},
   "outputs": [
    {
     "name": "stdout",
     "output_type": "stream",
     "text": [
      "16\n"
     ]
    }
   ],
   "source": [
    "CFA = ' Coding for All '\n",
    "print(len(CFA))"
   ]
  },
  {
   "cell_type": "code",
   "execution_count": 71,
   "metadata": {},
   "outputs": [
    {
     "name": "stdout",
     "output_type": "stream",
     "text": [
      "Coding for All\n"
     ]
    }
   ],
   "source": [
    "noSpace1 = CFA[1:14]\n",
    "noSpace2 = CFA[14:15]\n",
    "\n",
    "print(noSpace1+noSpace2)"
   ]
  },
  {
   "cell_type": "markdown",
   "metadata": {},
   "source": [
    "31. Which one of the following variables returns True when we use the method `isidentifier()`:\n",
    "- 30DaysOfPython\n",
    "- thirty_days_of_python\n",
    "\n",
    "A: the second one"
   ]
  },
  {
   "cell_type": "code",
   "execution_count": 72,
   "metadata": {},
   "outputs": [
    {
     "name": "stdout",
     "output_type": "stream",
     "text": [
      "False\n",
      "True\n"
     ]
    }
   ],
   "source": [
    "from traitlets.traitlets import isidentifier\n",
    "\n",
    "\n",
    "print(isidentifier('30DaysofPython'))\n",
    "print(isidentifier('thirty_days_of_python'))"
   ]
  },
  {
   "cell_type": "markdown",
   "metadata": {},
   "source": [
    "32. The following list contains the names of some of python libraries: ['Django', 'Flask', 'Bottle', 'Pyramid', 'Falcon']. Join the list with a hash with space string."
   ]
  },
  {
   "cell_type": "code",
   "execution_count": 74,
   "metadata": {},
   "outputs": [
    {
     "name": "stdout",
     "output_type": "stream",
     "text": [
      "Django# Flask# Bottle# Pyramid# Falcon\n"
     ]
    }
   ],
   "source": [
    "libraries = ['Django', 'Flask', 'Bottle', 'Pyramid', 'Falcon']\n",
    "conc_libraries = '# '.join(libraries)\n",
    "\n",
    "print(conc_libraries)"
   ]
  },
  {
   "cell_type": "markdown",
   "metadata": {},
   "source": [
    "33. Use the new line escape sequence to separate the following sentences.\n",
    "\n",
    "- I am enjoying this challenge.\n",
    "- I just wonder what is next."
   ]
  },
  {
   "cell_type": "code",
   "execution_count": 76,
   "metadata": {},
   "outputs": [
    {
     "name": "stdout",
     "output_type": "stream",
     "text": [
      "I am enjoying this challenge.\n",
      "I just wonder what is next.\n"
     ]
    }
   ],
   "source": [
    "print('I am enjoying this challenge.\\nI just wonder what is next.')"
   ]
  },
  {
   "cell_type": "markdown",
   "metadata": {},
   "source": [
    "34. Use a tab escape sequence to write the following lines:\n",
    "- Name      Age     Country   City\n",
    "- Asabeneh  250     Finland   Helsinki\n",
    "- Lizandra  44      Brasil      Piracaia"
   ]
  },
  {
   "cell_type": "code",
   "execution_count": 79,
   "metadata": {},
   "outputs": [
    {
     "name": "stdout",
     "output_type": "stream",
     "text": [
      "Name\t\tAge\tCountry\t\tCity\n",
      "Asabeneh\t250\tFinland\t\tHelsinki\n",
      "Lizandra\t44\tBrasil\t\tPiracaia\n"
     ]
    }
   ],
   "source": [
    "print('Name\\t\\tAge\\tCountry\\t\\tCity\\nAsabeneh\\t250\\tFinland\\t\\tHelsinki\\nLizandra\\t44\\tBrasil\\t\\tPiracaia')"
   ]
  },
  {
   "cell_type": "markdown",
   "metadata": {},
   "source": [
    "35. Use the string formatting method to display the following:\n",
    "\n",
    "- radius = 10\n",
    "- area = 3.14 * radius ** 2\n",
    "- The area of a circle with radius 10 is 314 meters square."
   ]
  },
  {
   "cell_type": "code",
   "execution_count": 80,
   "metadata": {},
   "outputs": [
    {
     "name": "stdout",
     "output_type": "stream",
     "text": [
      "The area of a circle with radius 10 is 314.0\n"
     ]
    }
   ],
   "source": [
    "radius = 10\n",
    "area = 3.14 * radius ** 2\n",
    "\n",
    "print(f'The area of a circle with radius {radius} is {area}')"
   ]
  },
  {
   "cell_type": "markdown",
   "metadata": {},
   "source": [
    "36. Make the following using string formatting methods:\n",
    "\n",
    "- 8 + 6 = 14\n",
    "- 8 - 6 = 2\n",
    "- 8 * 6 = 48\n",
    "- 8 / 6 = 1.33\n",
    "- 8 % 6 = 2\n",
    "- 8 // 6 = 1\n",
    "- 8 ** 6 = 262144"
   ]
  },
  {
   "cell_type": "code",
   "execution_count": 83,
   "metadata": {},
   "outputs": [
    {
     "name": "stdout",
     "output_type": "stream",
     "text": [
      "a + b = 14\n",
      "a - b = 2\n",
      "a * b = 48\n",
      "a / b = 1.33\n",
      "a % b = 2\n",
      "a // b = 1\n",
      "a ** b = 262144\n"
     ]
    }
   ],
   "source": [
    "a = 8\n",
    "b = 6\n",
    "print(f'a + b = {a+b}')\n",
    "print(f'a - b = {a-b}')\n",
    "print(f'a * b = {a*b}')\n",
    "print(f'a / b = {a/b:.2f}')\n",
    "print(f'a % b = {a%b}')\n",
    "print(f'a // b = {a//b}')\n",
    "print(f'a ** b = {a**b}')"
   ]
  }
 ],
 "metadata": {
  "kernelspec": {
   "display_name": "Python 3",
   "language": "python",
   "name": "python3"
  },
  "language_info": {
   "codemirror_mode": {
    "name": "ipython",
    "version": 3
   },
   "file_extension": ".py",
   "mimetype": "text/x-python",
   "name": "python",
   "nbconvert_exporter": "python",
   "pygments_lexer": "ipython3",
   "version": "3.12.3"
  }
 },
 "nbformat": 4,
 "nbformat_minor": 2
}
