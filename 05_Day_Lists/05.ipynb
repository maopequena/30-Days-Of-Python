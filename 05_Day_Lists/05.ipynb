{
 "cells": [
  {
   "cell_type": "markdown",
   "metadata": {},
   "source": [
    "# Lists\n",
    "\n",
    "There are four collection data types in Python:\n",
    "\n",
    "- <b>List</b>: lista, uma coleção ordenada e mutável. Aceita itens duplicados.\n",
    "- <b>Tuple</b>: tupla, uma coleção ordenada e imutável. Aceita itens duplicados.\n",
    "- <b>Set</b>: conjunto, uma coleção desordenada, não indexada e imutável, mas que aceita novos itens. Não aceita itens duplicados.\n",
    "- <b>Dictionary</b>: dicionário, uma coleção desordenada, mutável e indexada. Não aceita itens duplicados.\n",
    "\n",
    "Uma lista pode conter itens de diferentes tipos de dados ou pode estar vazia."
   ]
  },
  {
   "cell_type": "code",
   "execution_count": 52,
   "metadata": {},
   "outputs": [
    {
     "name": "stdout",
     "output_type": "stream",
     "text": [
      "['Lizandra', 44, True, {'pais': 'Brasil', 'cidade': 'Piracaia'}]\n"
     ]
    }
   ],
   "source": [
    "lst = ['Lizandra', 44, True, {'pais':'Brasil', 'cidade':'Piracaia'}] # uma lista que contém diferentes tipos de dados\n",
    "print(lst)"
   ]
  },
  {
   "cell_type": "markdown",
   "metadata": {},
   "source": [
    "Há duas maneiras de criar listas no Python:\n",
    "\n",
    "1. Usando a função de lista, que já acompanha o Python"
   ]
  },
  {
   "cell_type": "code",
   "execution_count": 2,
   "metadata": {},
   "outputs": [
    {
     "name": "stdout",
     "output_type": "stream",
     "text": [
      "0\n"
     ]
    }
   ],
   "source": [
    "emptyList = list() # isto é uma lista vazia, não há itens nela\n",
    "\n",
    "print(len(emptyList)) # 0"
   ]
  },
  {
   "cell_type": "markdown",
   "metadata": {},
   "source": [
    "2. Usando colchetes `[]`"
   ]
  },
  {
   "cell_type": "code",
   "execution_count": 3,
   "metadata": {},
   "outputs": [
    {
     "name": "stdout",
     "output_type": "stream",
     "text": [
      "0\n"
     ]
    }
   ],
   "source": [
    "empty_list = []\n",
    "print(len(empty_list))"
   ]
  },
  {
   "cell_type": "markdown",
   "metadata": {},
   "source": [
    "Usa-se `len()` para descobrir o comprimento de uma lista."
   ]
  },
  {
   "cell_type": "code",
   "execution_count": 6,
   "metadata": {},
   "outputs": [
    {
     "name": "stdout",
     "output_type": "stream",
     "text": [
      "Frutas: ['banana', 'laranja', 'manga', 'limao']\n",
      "Quantidade de frutas: 4\n",
      "Vegetais: ['Tomate', 'Batata', 'Repolho', 'Cebola', 'Cenoura']\n",
      "Quantidade de vegetais: 5\n",
      "Produtos animais: ['leite', 'carne', 'manteiga', 'iogurte']\n",
      "Quantidade de produtos animais: 4\n",
      "Tecnologias para a Web: ['HTML', 'CSS', 'JS', 'React', 'Redux', 'Node', 'MongoDB']\n",
      "Quantidade de tecnologias para a Web: 7\n",
      "Países: ['Finlandia', 'Estonia', 'Dinamarca', 'Suecia', 'Noruega']\n",
      "Quantidade de países: 5\n"
     ]
    }
   ],
   "source": [
    "frutas = ['banana', 'laranja', 'manga', 'limao'] # lista de frutas\n",
    "vegetais = ['Tomate', 'Batata', 'Repolho','Cebola', 'Cenoura']# lista de vegetais\n",
    "produtosAnimais = ['leite', 'carne', 'manteiga', 'iogurte'] # lista de produtos animais\n",
    "tecnologiasWeb = ['HTML', 'CSS', 'JS', 'React','Redux', 'Node', 'MongoDB']# lista de tecnologias para a Web\n",
    "paises = ['Finlandia', 'Estonia', 'Dinamarca', 'Suecia', 'Noruega'] # lista de países\n",
    "\n",
    "# Exibir as listas e seus comprimentos\n",
    "print('Frutas:', frutas)\n",
    "print('Quantidade de frutas:', len(frutas))\n",
    "print('Vegetais:', vegetais)\n",
    "print('Quantidade de vegetais:', len(vegetais))\n",
    "print('Produtos animais:', produtosAnimais)\n",
    "print('Quantidade de produtos animais:', len(produtosAnimais))\n",
    "print('Tecnologias para a Web:', tecnologiasWeb)\n",
    "print('Quantidade de tecnologias para a Web:', len(tecnologiasWeb))\n",
    "print('Países:', paises)\n",
    "print('Quantidade de países:', len(paises))"
   ]
  },
  {
   "cell_type": "markdown",
   "metadata": {},
   "source": [
    "<b>Acessar itens com índice positivo</b>\n",
    "\n",
    "É possível acessar cada item de uma lista usando seu índice. Como em outros casos, o índice começa a contar do 0."
   ]
  },
  {
   "cell_type": "code",
   "execution_count": 8,
   "metadata": {},
   "outputs": [
    {
     "name": "stdout",
     "output_type": "stream",
     "text": [
      "banana\n",
      "laranja\n",
      "limao\n"
     ]
    }
   ],
   "source": [
    "frutas = ['banana', 'laranja', 'manga', 'limao']\n",
    "primeiraFruta = frutas[0]# acesso ao primeiro item pelo seu índice\n",
    "segundaFruta = frutas[1]\n",
    "ultimaFruta = frutas[3]\n",
    "\n",
    "# Último índice\n",
    "\n",
    "ultimoIndice = len(frutas) - 1\n",
    "ultimaFruta = frutas[ultimoIndice]\n",
    "\n",
    "print(primeiraFruta)# banana\n",
    "print(segundaFruta) # orange\n",
    "print(ultimaFruta) # lemon"
   ]
  },
  {
   "cell_type": "markdown",
   "metadata": {},
   "source": [
    "<b>Acessar itens com índice negativo</b>\n",
    "\n",
    "O índice negativo começa a contar do final, -1 refere-se ao último item, -2, ao penúltimo, e assim por diante."
   ]
  },
  {
   "cell_type": "code",
   "execution_count": 10,
   "metadata": {},
   "outputs": [
    {
     "name": "stdout",
     "output_type": "stream",
     "text": [
      "banana\n",
      "limao\n",
      "manga\n"
     ]
    }
   ],
   "source": [
    "frutas = ['banana', 'laranja', 'manga', 'limao']\n",
    "primeiraFruta = frutas[-4]# acesso ao primeiro item pelo seu índice\n",
    "ultimaFruta = frutas[-1]\n",
    "penultimaFruta = frutas[-2]\n",
    "\n",
    "print(primeiraFruta) # banana\n",
    "print(ultimaFruta)# lemon\n",
    "print(penultimaFruta) # mango"
   ]
  },
  {
   "cell_type": "markdown",
   "metadata": {},
   "source": [
    "<b>Desmembrando a lista</b>"
   ]
  },
  {
   "cell_type": "code",
   "execution_count": 11,
   "metadata": {},
   "outputs": [
    {
     "name": "stdout",
     "output_type": "stream",
     "text": [
      "item1\n",
      "item2\n",
      "item3\n",
      "['item4', 'item5']\n"
     ]
    }
   ],
   "source": [
    "lista = ['item1','item2','item3', 'item4', 'item5']\n",
    "primeiroItem, segundoItem, terceiroItem, *restante = lista\n",
    "print(primeiroItem) # item1\n",
    "print(segundoItem) # item2\n",
    "print(terceiroItem) # item3\n",
    "print(restante) # ['item4', 'item5']"
   ]
  },
  {
   "cell_type": "code",
   "execution_count": 14,
   "metadata": {},
   "outputs": [
    {
     "name": "stdout",
     "output_type": "stream",
     "text": [
      "banana\n",
      "laranja\n",
      "manga\n",
      "['limao', 'abacaxi', 'maca']\n",
      "1\n",
      "2\n",
      "3\n",
      "[4, 5, 6, 7, 8, 9]\n",
      "10\n",
      "Alemanha\n",
      "Franca\n",
      "Belgica\n",
      "Suecia\n",
      "['Dinamarca', 'Finlandia', 'Noruega', 'Islandia']\n",
      "Estonia\n"
     ]
    }
   ],
   "source": [
    "# Exemplo 1\n",
    "\n",
    "frutas = ['banana', 'laranja', 'manga', 'limao','abacaxi','maca']\n",
    "primeiraFruta, segundaFruta, terceiraFruta, *restante = frutas \n",
    "\n",
    "print(primeiraFruta)# banana\n",
    "print(segundaFruta) # orange\n",
    "print(terceiraFruta)# mango\n",
    "print(restante) # ['lemon','lime','apple']\n",
    "\n",
    "# Exemplo 2\n",
    "\n",
    "primeiro, segundo, terceiro, *resto, decimo = [1,2,3,4,5,6,7,8,9,10]\n",
    "\n",
    "print(primeiro) # 1\n",
    "print(segundo) # 2\n",
    "print(terceiro) # 3\n",
    "print(resto)# [4,5,6,7,8,9]\n",
    "print(decimo)# 10\n",
    "\n",
    "# Exemplo 3\n",
    "paises = ['Alemanha', 'Franca','Belgica','Suecia','Dinamarca','Finlandia','Noruega','Islandia','Estonia']\n",
    "\n",
    "de, fr, bg, su, *scandic, est = paises\n",
    "print(de)\n",
    "print(fr)\n",
    "print(bg)\n",
    "print(su)\n",
    "print(scandic)\n",
    "print(est)"
   ]
  },
  {
   "cell_type": "markdown",
   "metadata": {},
   "source": [
    "<b>Cortar itens da lista</b>\n",
    "\n",
    "1. Com índice positivo: defina um intervalo de índices positivos especificando os argumentos início, fim e etapa intermediária. O valor retornado será uma nova lista."
   ]
  },
  {
   "cell_type": "code",
   "execution_count": 21,
   "metadata": {},
   "outputs": [
    {
     "name": "stdout",
     "output_type": "stream",
     "text": [
      "['banana', 'laranja', 'manga', 'limao']\n",
      "['banana', 'laranja', 'manga', 'limao']\n",
      "['laranja', 'manga']\n",
      "['laranja', 'manga', 'limao']\n",
      "['laranja', 'limao']\n"
     ]
    }
   ],
   "source": [
    "frutas = ['banana', 'laranja', 'manga', 'limao']\n",
    "todasFrutas1 = frutas[0:4]# retorna todas as frutas\n",
    "todasFrutas2 = frutas[0:]# dá o mesmo resultado que o código acima; se o valor final não for definido, retorna todo o restante dos itens\n",
    "laranja_e_manga1 = frutas[1:3]# não inclui o primeiro, nem o último índices\n",
    "laranja_manga_limao1 = frutas[1:]# não inclui o primeiro índice e vai até o fim\n",
    "laranja_e_limao1 = frutas[1::2] # aqui foi usado o terceiro argumento, a etapa. Isso retorna somente a cada 2 itens (every 2nd item)\n",
    "\n",
    "print(todasFrutas1)\n",
    "print(todasFrutas2)\n",
    "print(laranja_e_manga1)\n",
    "print(laranja_manga_limao1)\n",
    "print(laranja_e_limao1)\n"
   ]
  },
  {
   "cell_type": "markdown",
   "metadata": {},
   "source": [
    "2. Com índice negativo: defina um intervalo de índices negativos especificando os argumentos início, fim e etapa intermediária. O valor retornado será uma nova lista."
   ]
  },
  {
   "cell_type": "code",
   "execution_count": 22,
   "metadata": {},
   "outputs": [
    {
     "name": "stdout",
     "output_type": "stream",
     "text": [
      "['banana', 'laranja', 'manga', 'limao']\n",
      "['laranja', 'manga']\n",
      "['laranja', 'manga', 'limao']\n",
      "['limao', 'manga', 'laranja', 'banana']\n"
     ]
    }
   ],
   "source": [
    "frutas = ['banana', 'laranja', 'manga', 'limao']\n",
    "todasFrutas3 = frutas[-4:]# retorna todas as frutas\n",
    "laranja_e_manga2 = frutas[-3:-1] # não inclui o último índice\n",
    "laranja_manga_limao2 = frutas[-3:]# inicia em -3 e vai até o começo\n",
    "inverterFrutas = frutas[::-1]# uma etapa negativa que exibirá a lista em ordem inversa\n",
    "\n",
    "print(todasFrutas3)\n",
    "print(laranja_e_manga2)\n",
    "print(laranja_manga_limao2)\n",
    "print(inverterFrutas)"
   ]
  },
  {
   "cell_type": "markdown",
   "metadata": {},
   "source": [
    "<b>Modifying Lists</b>\n",
    "\n",
    "Uma lista é uma coleção mutável e ordenada de itens. Vamos alterar a lista de frutas."
   ]
  },
  {
   "cell_type": "code",
   "execution_count": 25,
   "metadata": {},
   "outputs": [
    {
     "name": "stdout",
     "output_type": "stream",
     "text": [
      "['banana', 'laranja', 'manga', 'limao']\n",
      "['abacate', 'laranja', 'manga', 'limao']\n",
      "['abacate', 'maca', 'manga', 'limao']\n",
      "['abacate', 'maca', 'manga', 'abacaxi']\n"
     ]
    }
   ],
   "source": [
    "frutas = ['banana', 'laranja', 'manga', 'limao']\n",
    "\n",
    "print(frutas)\n",
    "\n",
    "frutas[0] = 'abacate'\n",
    "print(frutas)# ['avocado', 'orange', 'mango', 'lemon']\n",
    "\n",
    "frutas[1] = 'maca'\n",
    "print(frutas)# ['avocado', 'apple', 'mango', 'lemon']\n",
    "\n",
    "ultimoIndice2 = len(frutas) - 1\n",
    "frutas[ultimoIndice2] = 'abacaxi'\n",
    "print(frutas)# ['avocado', 'apple', 'mango', 'lime']"
   ]
  },
  {
   "cell_type": "markdown",
   "metadata": {},
   "source": [
    "<b>Verificar itens de uma lista</b>\n",
    "\n",
    "Vejamos como verificar se um item está em uma lista usando o operador `in`."
   ]
  },
  {
   "cell_type": "code",
   "execution_count": 27,
   "metadata": {},
   "outputs": [
    {
     "name": "stdout",
     "output_type": "stream",
     "text": [
      "True\n",
      "False\n"
     ]
    }
   ],
   "source": [
    "frutas = ['banana', 'laranja', 'manga', 'limao']\n",
    "\n",
    "existe = 'banana' in frutas\n",
    "print(existe) # True\n",
    "\n",
    "existe = 'abacaxi' in frutas\n",
    "print(existe) # False"
   ]
  },
  {
   "cell_type": "markdown",
   "metadata": {},
   "source": [
    "<b>Adicionar itens a uma lista</b>\n",
    "\n",
    "Para adicionar itens ao final de uma lista existente, use o método `append()`."
   ]
  },
  {
   "cell_type": "code",
   "execution_count": 28,
   "metadata": {},
   "outputs": [
    {
     "name": "stdout",
     "output_type": "stream",
     "text": [
      "['banana', 'laranja', 'manga', 'limao', 'maca']\n",
      "['banana', 'laranja', 'manga', 'limao', 'maca', 'abacaxi']\n"
     ]
    }
   ],
   "source": [
    "frutas = ['banana', 'laranja', 'manga', 'limao']\n",
    "\n",
    "frutas.append('maca')\n",
    "print(frutas)# ['banana', 'orange', 'mango', 'lemon', 'apple']\n",
    "\n",
    "frutas.append('abacaxi')# ['banana', 'orange', 'mango', 'lemon', 'apple', 'lime']\n",
    "print(frutas)"
   ]
  },
  {
   "cell_type": "markdown",
   "metadata": {},
   "source": [
    "<b>Inserir itens em uma lista</b>\n",
    "\n",
    "É possível usar o método `insert()` para inserir um único item em um determinado índice de uma lista. Com isso, o índice de outros itens muda para +1. Este método aceita dois argumentos: `index` e o `item` a inserir."
   ]
  },
  {
   "cell_type": "code",
   "execution_count": 29,
   "metadata": {},
   "outputs": [
    {
     "name": "stdout",
     "output_type": "stream",
     "text": [
      "['banana', 'laranja', 'maca', 'manga', 'limao']\n",
      "['banana', 'laranja', 'maca', 'abacaxi', 'manga', 'limao']\n"
     ]
    }
   ],
   "source": [
    "frutas = ['banana', 'laranja', 'manga', 'limao']\n",
    "\n",
    "frutas.insert(2, 'maca')# insere \"maca\" entre \"laranja\" e \"manga\"\n",
    "print(frutas)# ['banana', 'orange', 'apple', 'mango', 'lemon']\n",
    "\n",
    "frutas.insert(3, 'abacaxi') # ['banana', 'laranja', 'maca', 'abacaxi', 'manga', 'limao']\n",
    "print(frutas)"
   ]
  },
  {
   "cell_type": "markdown",
   "metadata": {},
   "source": [
    "<b>Remover itens de uma lista</b>\n",
    "\n",
    "- O método `remove()` remove um determinado item de uma lista.\n",
    "- O método `pop()` remove o índice especificado ou o último item se o índice não for especificado.\n",
    "- A palavra-chave `del` remove o índice especificado e pode ser usada para excluir itens dentro de um intervalor de índices. Também pode excluir a lista completamente.\n",
    "- O método `clear()` esvazia a lista."
   ]
  },
  {
   "cell_type": "code",
   "execution_count": 32,
   "metadata": {},
   "outputs": [
    {
     "name": "stdout",
     "output_type": "stream",
     "text": [
      "['laranja', 'manga', 'limao', 'banana']\n",
      "['laranja', 'manga', 'banana']\n"
     ]
    }
   ],
   "source": [
    "frutas = ['banana', 'laranja', 'manga', 'limao', 'banana']\n",
    "\n",
    "frutas.remove('banana')\n",
    "print(frutas)# ['orange', 'mango', 'lemon', 'banana']; remove a primeira ocorrência do item na lista\n",
    "\n",
    "frutas.remove('limao')\n",
    "print(frutas)# ['orange', 'mango', 'banana']; ação cumulativa"
   ]
  },
  {
   "cell_type": "code",
   "execution_count": 33,
   "metadata": {},
   "outputs": [
    {
     "name": "stdout",
     "output_type": "stream",
     "text": [
      "['banana', 'laranja', 'manga']\n",
      "['laranja', 'manga']\n"
     ]
    }
   ],
   "source": [
    "frutas = ['banana', 'laranja', 'manga', 'limao']\n",
    "\n",
    "frutas.pop()\n",
    "print(frutas)# ['banana', 'orange', 'mango']\n",
    "\n",
    "frutas.pop(0)\n",
    "print(frutas)# ['orange', 'mango']"
   ]
  },
  {
   "cell_type": "code",
   "execution_count": 34,
   "metadata": {},
   "outputs": [
    {
     "name": "stdout",
     "output_type": "stream",
     "text": [
      "['laranja', 'manga', 'limao', 'kiwi', 'abacaxi']\n",
      "['laranja', 'limao', 'kiwi', 'abacaxi']\n",
      "['laranja', 'abacaxi']\n"
     ]
    },
    {
     "ename": "NameError",
     "evalue": "name 'frutas' is not defined",
     "output_type": "error",
     "traceback": [
      "\u001b[1;31m---------------------------------------------------------------------------\u001b[0m",
      "\u001b[1;31mNameError\u001b[0m                                 Traceback (most recent call last)",
      "Cell \u001b[1;32mIn[34], line 13\u001b[0m\n\u001b[0;32m     10\u001b[0m \u001b[38;5;28mprint\u001b[39m(frutas)       \u001b[38;5;66;03m# ['orange', 'lime']\u001b[39;00m\n\u001b[0;32m     12\u001b[0m \u001b[38;5;28;01mdel\u001b[39;00m frutas\n\u001b[1;32m---> 13\u001b[0m \u001b[38;5;28mprint\u001b[39m(\u001b[43mfrutas\u001b[49m)       \u001b[38;5;66;03m# This should give: NameError: name 'fruits' is not defined\u001b[39;00m\n",
      "\u001b[1;31mNameError\u001b[0m: name 'frutas' is not defined"
     ]
    }
   ],
   "source": [
    "frutas = ['banana', 'laranja', 'manga', 'limao', 'kiwi', 'abacaxi']\n",
    "\n",
    "del frutas[0]\n",
    "print(frutas)# ['orange', 'mango', 'lemon', 'kiwi', 'lime']\n",
    "\n",
    "del frutas[1]\n",
    "print(frutas)# ['orange', 'lemon', 'kiwi', 'lime']\n",
    "\n",
    "del frutas[1:3] # this deletes items between given indexes, so it does not delete the item with index 3!\n",
    "print(frutas)# ['orange', 'lime']\n",
    "\n",
    "del frutas\n",
    "print(frutas)# This should give: NameError: name 'fruits' is not defined"
   ]
  },
  {
   "cell_type": "code",
   "execution_count": 35,
   "metadata": {},
   "outputs": [
    {
     "name": "stdout",
     "output_type": "stream",
     "text": [
      "[]\n"
     ]
    }
   ],
   "source": [
    "frutas = ['banana', 'laranja', 'manga', 'limao']\n",
    "\n",
    "frutas.clear()\n",
    "print(frutas)# []"
   ]
  },
  {
   "cell_type": "markdown",
   "metadata": {},
   "source": [
    "<b>Copiar uma lista</b>\n",
    "\n",
    "É possível copiar uma lista usando uma nova variável para reatribuí-la. P.ex.: lista2 = lista1. Agora a lista2 faz referência à lista1, quaisquer alterações feitas à lista2 também alterarão a original, a lista1. Porém, em muitos casos, não queremos alterar a lista original, mas sim uma cópia dela; para isso usamos o método `copy()`."
   ]
  },
  {
   "cell_type": "code",
   "execution_count": 36,
   "metadata": {},
   "outputs": [
    {
     "name": "stdout",
     "output_type": "stream",
     "text": [
      "['banana', 'laranja', 'manga', 'limao']\n"
     ]
    }
   ],
   "source": [
    "frutas = ['banana', 'laranja', 'manga', 'limao']\n",
    "\n",
    "copiaFrutas = frutas.copy()\n",
    "print(copiaFrutas)# ['banana', 'orange', 'mango', 'lemon']"
   ]
  },
  {
   "cell_type": "markdown",
   "metadata": {},
   "source": [
    "<b>Unir listas</b>\n",
    "\n",
    "Há várias formas de unir, ou concatenar, duas ou mais listas no Python.\n",
    "\n",
    "1. Operador de adição (+)"
   ]
  },
  {
   "cell_type": "code",
   "execution_count": 37,
   "metadata": {},
   "outputs": [
    {
     "name": "stdout",
     "output_type": "stream",
     "text": [
      "[-5, -4, -3, -2, -1, 0, 1, 2, 3, 4, 5]\n",
      "['banana', 'laranja', 'manga', 'limao', 'Tomate', 'Batata', 'Repolho', 'Cebola', 'Cenoura']\n"
     ]
    }
   ],
   "source": [
    "numerosPositivos = [1, 2, 3, 4, 5]\n",
    "zero = [0]\n",
    "numerosNegativos = [-5,-4,-3,-2,-1]\n",
    "inteiros = numerosNegativos + zero + numerosPositivos\n",
    "print(inteiros) # [-5, -4, -3, -2, -1, 0, 1, 2, 3, 4, 5]\n",
    "\n",
    "frutas = ['banana', 'laranja', 'manga', 'limao']\n",
    "vegetais = ['Tomate', 'Batata', 'Repolho','Cebola', 'Cenoura']\n",
    "frutas_e_vegetais = frutas + vegetais\n",
    "print(frutas_e_vegetais)# ['banana', 'orange', 'mango', 'lemon', 'Tomato', 'Potato', 'Cabbage', 'Onion', 'Carrot']"
   ]
  },
  {
   "cell_type": "markdown",
   "metadata": {},
   "source": [
    "2. O método `extend()`, que possibilita anexar uma lista à outra."
   ]
  },
  {
   "cell_type": "code",
   "execution_count": 39,
   "metadata": {},
   "outputs": [
    {
     "name": "stdout",
     "output_type": "stream",
     "text": [
      "Números: [0, 1, 2, 3, 4, 5, 6]\n",
      "Inteiros: [-5, -4, -3, -2, -1, 0, 1, 2, 3, 4, 5]\n",
      "Frutas e vegetais: ['banana', 'laranja', 'manga', 'limao', 'Tomate', 'Batata', 'Repolho', 'Cebola', 'Cenoura']\n"
     ]
    }
   ],
   "source": [
    "num1 = [0, 1, 2, 3]\n",
    "num2= [4, 5, 6]\n",
    "num1.extend(num2)\n",
    "\n",
    "print('Números:', num1) # Numbers: [0, 1, 2, 3, 4, 5, 6]\n",
    "\n",
    "numerosNegativos = [-5,-4,-3,-2,-1]\n",
    "numerosPositivos = [1, 2, 3,4,5]\n",
    "zero = [0]\n",
    "numerosNegativos.extend(zero)\n",
    "numerosNegativos.extend(numerosPositivos)\n",
    "print('Inteiros:', numerosNegativos)# Integers: [-5, -4, -3, -2, -1, 0, 1, 2, 3, 4, 5]\n",
    "\n",
    "frutas = ['banana', 'laranja', 'manga', 'limao']\n",
    "vegetais = ['Tomate', 'Batata', 'Repolho','Cebola', 'Cenoura']\n",
    "frutas.extend(vegetais)\n",
    "print('Frutas e vegetais:', frutas ) # Fruits and vegetables: ['banana', 'orange', 'mango', 'lemon', 'Tomato', 'Potato', 'Cabbage', 'Onion', 'Carrot']"
   ]
  },
  {
   "cell_type": "markdown",
   "metadata": {},
   "source": [
    "<b>Contar itens em uma lista</b>\n",
    "\n",
    "O método `count()` retorna a quantidade de vezes que um item aparece em uma lista."
   ]
  },
  {
   "cell_type": "code",
   "execution_count": 40,
   "metadata": {},
   "outputs": [
    {
     "name": "stdout",
     "output_type": "stream",
     "text": [
      "1\n",
      "3\n"
     ]
    }
   ],
   "source": [
    "frutas = ['banana', 'laranja', 'manga', 'limao']\n",
    "print(frutas.count('laranja'))# 1\n",
    "\n",
    "idades = [22, 19, 24, 25, 26, 24, 25, 24]\n",
    "print(idades.count(24))# 3"
   ]
  },
  {
   "cell_type": "markdown",
   "metadata": {},
   "source": [
    "<b>Descobrir o índice de um item</b>\n",
    "\n",
    "O método `index()` retorna o índice de um item da lista."
   ]
  },
  {
   "cell_type": "code",
   "execution_count": 42,
   "metadata": {},
   "outputs": [
    {
     "name": "stdout",
     "output_type": "stream",
     "text": [
      "1\n",
      "2\n"
     ]
    }
   ],
   "source": [
    "frutas = ['banana', 'laranja', 'manga', 'limao']\n",
    "print(frutas.index('laranja'))# 1\n",
    "\n",
    "idades = [22, 19, 24, 25, 26, 24, 25, 24]\n",
    "print(idades.index(24))# 2, a primeira ocorrêcia"
   ]
  },
  {
   "cell_type": "markdown",
   "metadata": {},
   "source": [
    "<b>Inverter uma lista</b>\n",
    "\n",
    "O método `reverse()` inverte a ordem de uma lista."
   ]
  },
  {
   "cell_type": "code",
   "execution_count": 43,
   "metadata": {},
   "outputs": [
    {
     "name": "stdout",
     "output_type": "stream",
     "text": [
      "['limao', 'manga', 'laranja', 'banana']\n",
      "[24, 25, 24, 26, 25, 24, 19, 22]\n"
     ]
    }
   ],
   "source": [
    "frutas = ['banana', 'laranja', 'manga', 'limao']\n",
    "frutas.reverse()\n",
    "print(frutas)\n",
    "\n",
    "idades = [22, 19, 24, 25, 26, 24, 25, 24]\n",
    "idades.reverse()\n",
    "print(idades)"
   ]
  },
  {
   "cell_type": "markdown",
   "metadata": {},
   "source": [
    "<b>Classificar itens de uma lista</b>\n",
    "\n",
    "Podemos usar o método `sort()` ou a função `sorted()` para classificar itens em uma lista. O método `sort()` reorganiza os itens da lista em ordem crescente e altera a lista original. Se o argumento `reverse` do método `sort()` for igual a True, isso reordenará a lista em ordem descendente.\n",
    "\n",
    "1. `sort()`: altera a lista original"
   ]
  },
  {
   "cell_type": "code",
   "execution_count": 44,
   "metadata": {},
   "outputs": [
    {
     "name": "stdout",
     "output_type": "stream",
     "text": [
      "['banana', 'laranja', 'limao', 'manga']\n",
      "['manga', 'limao', 'laranja', 'banana']\n",
      "[19, 22, 24, 24, 24, 25, 25, 26]\n",
      "[26, 25, 25, 24, 24, 24, 22, 19]\n"
     ]
    }
   ],
   "source": [
    "frutas = ['banana', 'laranja', 'manga', 'limao']\n",
    "frutas.sort()\n",
    "print(frutas)# sorted in alphabetical order, ['banana', 'lemon', 'mango', 'orange']\n",
    "\n",
    "frutas.sort(reverse=True)\n",
    "print(frutas)# ['orange', 'mango', 'lemon', 'banana']\n",
    "\n",
    "\n",
    "idades = [22, 19, 24, 25, 26, 24, 25, 24]\n",
    "idades.sort()\n",
    "print(idades) # [19, 22, 24, 24, 24, 25, 25, 26]\n",
    "\n",
    "idades.sort(reverse=True)\n",
    "print(idades) # [26, 25, 25, 24, 24, 24, 22, 19]"
   ]
  },
  {
   "cell_type": "markdown",
   "metadata": {},
   "source": [
    "2. `sorted()`: retorna a lista ordenada sem alterar a lista original"
   ]
  },
  {
   "cell_type": "code",
   "execution_count": 47,
   "metadata": {},
   "outputs": [
    {
     "name": "stdout",
     "output_type": "stream",
     "text": [
      "['banana', 'laranja', 'limao', 'manga']\n",
      "['manga', 'limao', 'laranja', 'banana']\n"
     ]
    }
   ],
   "source": [
    "frutas = ['banana', 'laranja', 'manga', 'limao']\n",
    "print(sorted(frutas))# ['banana', 'lemon', 'mango', 'orange']\n",
    "\n",
    "# Ordem inversa\n",
    "\n",
    "frutas = ['banana', 'laranja', 'manga', 'limao']\n",
    "print(sorted(frutas,reverse=True)) # ['orange', 'mango', 'lemon', 'banana']"
   ]
  },
  {
   "cell_type": "markdown",
   "metadata": {},
   "source": [
    "# EXERCISES\n",
    "\n",
    "### LEVEL 1\n",
    "\n",
    "1. Declare an empty list"
   ]
  },
  {
   "cell_type": "code",
   "execution_count": 49,
   "metadata": {},
   "outputs": [
    {
     "name": "stdout",
     "output_type": "stream",
     "text": [
      "[]\n"
     ]
    }
   ],
   "source": [
    "lista = []\n",
    "print(lista)"
   ]
  },
  {
   "cell_type": "markdown",
   "metadata": {},
   "source": [
    "2. Declare a list with more than 5 items"
   ]
  },
  {
   "cell_type": "code",
   "execution_count": 74,
   "metadata": {},
   "outputs": [
    {
     "name": "stdout",
     "output_type": "stream",
     "text": [
      "['Lizandra', 'Silva', '45', 'pais:Brasil', 'cidade: Piracaia', 'tradutora']\n"
     ]
    }
   ],
   "source": [
    "lista5Itens = ['Lizandra', 'Silva', '45', 'pais:Brasil', 'cidade: Piracaia', 'tradutora']\n",
    "print(lista5Itens)"
   ]
  },
  {
   "cell_type": "markdown",
   "metadata": {},
   "source": [
    "3. Find the length of your list"
   ]
  },
  {
   "cell_type": "code",
   "execution_count": 75,
   "metadata": {},
   "outputs": [
    {
     "data": {
      "text/plain": [
       "6"
      ]
     },
     "execution_count": 75,
     "metadata": {},
     "output_type": "execute_result"
    }
   ],
   "source": [
    "len(lista5Itens)"
   ]
  },
  {
   "cell_type": "markdown",
   "metadata": {},
   "source": [
    "4. Get the first item, the middle item and the last item of the list"
   ]
  },
  {
   "cell_type": "code",
   "execution_count": 78,
   "metadata": {},
   "outputs": [
    {
     "name": "stdout",
     "output_type": "stream",
     "text": [
      "Lizandra\n",
      "45\n",
      "tradutora\n"
     ]
    }
   ],
   "source": [
    "primeiroItem = lista5Itens[0]\n",
    "terceiroItem = lista5Itens[2]\n",
    "ultimoItem = lista5Itens[5]\n",
    "\n",
    "print(primeiroItem)\n",
    "print(terceiroItem)\n",
    "print(ultimoItem)"
   ]
  },
  {
   "cell_type": "markdown",
   "metadata": {},
   "source": [
    "5. Declare a list called mixed_data_types, put your (name, age, height, marital status, address)"
   ]
  },
  {
   "cell_type": "code",
   "execution_count": 80,
   "metadata": {},
   "outputs": [],
   "source": [
    "mixed_data_types = ['Lizandra', 44, 160, 'single', 'Piaracaia, SP, Brasil']"
   ]
  },
  {
   "cell_type": "markdown",
   "metadata": {},
   "source": [
    "6. Declare a list variable named it_companies and assign initial values Facebook, Google, Microsoft, Apple, IBM, Oracle and Amazon."
   ]
  },
  {
   "cell_type": "code",
   "execution_count": 84,
   "metadata": {},
   "outputs": [],
   "source": [
    "it_companies = ['Facebook', 'Google', 'Microsoft', 'Apple', 'IBM', 'Oracle', 'Amazon']"
   ]
  },
  {
   "cell_type": "markdown",
   "metadata": {},
   "source": [
    "7. Print the list using print()"
   ]
  },
  {
   "cell_type": "code",
   "execution_count": 85,
   "metadata": {},
   "outputs": [
    {
     "name": "stdout",
     "output_type": "stream",
     "text": [
      "['Lizandra', 44, 160, 'single', 'Piaracaia, SP, Brasil']\n",
      "['Facebook', 'Google', 'Microsoft', 'Apple', 'IBM', 'Oracle', 'Amazon']\n"
     ]
    }
   ],
   "source": [
    "print(mixed_data_types)\n",
    "print(it_companies)"
   ]
  },
  {
   "cell_type": "markdown",
   "metadata": {},
   "source": [
    "8. Print the number of companies in the list"
   ]
  },
  {
   "cell_type": "code",
   "execution_count": 86,
   "metadata": {},
   "outputs": [
    {
     "name": "stdout",
     "output_type": "stream",
     "text": [
      "7\n"
     ]
    }
   ],
   "source": [
    "print(len(it_companies))"
   ]
  },
  {
   "cell_type": "markdown",
   "metadata": {},
   "source": [
    "9. Print the first, middle and last company"
   ]
  },
  {
   "cell_type": "code",
   "execution_count": 90,
   "metadata": {},
   "outputs": [
    {
     "name": "stdout",
     "output_type": "stream",
     "text": [
      "Facebook\n",
      "['Google', 'Microsoft', 'Apple', 'IBM', 'Oracle']\n",
      "Amazon\n"
     ]
    }
   ],
   "source": [
    "firstCompany, *middleCompanies, lastCompany = it_companies\n",
    "\n",
    "print(firstCompany)\n",
    "print(middleCompanies)\n",
    "print(lastCompany)"
   ]
  },
  {
   "cell_type": "markdown",
   "metadata": {},
   "source": [
    "10. Print the list after modifying one of the companies"
   ]
  },
  {
   "cell_type": "code",
   "execution_count": 91,
   "metadata": {},
   "outputs": [
    {
     "name": "stdout",
     "output_type": "stream",
     "text": [
      "['Facebook', 'OpenAI', 'Microsoft', 'Apple', 'IBM', 'Oracle', 'Amazon']\n"
     ]
    }
   ],
   "source": [
    "it_companies[1] = 'OpenAI'\n",
    "\n",
    "print(it_companies)"
   ]
  },
  {
   "cell_type": "markdown",
   "metadata": {},
   "source": [
    "11. Add an IT company to it_companies"
   ]
  },
  {
   "cell_type": "code",
   "execution_count": 95,
   "metadata": {},
   "outputs": [
    {
     "name": "stdout",
     "output_type": "stream",
     "text": [
      "['Facebook', 'Microsoft', 'Apple', 'IBM', 'Oracle', 'Amazon', 'Google', 'Google']\n"
     ]
    }
   ],
   "source": [
    "it_companies.append('Google')\n",
    "\n",
    "print(it_companies)"
   ]
  },
  {
   "cell_type": "markdown",
   "metadata": {},
   "source": [
    "12. Insert an IT company in the middle of the companies list"
   ]
  },
  {
   "cell_type": "code",
   "execution_count": 96,
   "metadata": {},
   "outputs": [
    {
     "name": "stdout",
     "output_type": "stream",
     "text": [
      "['Facebook', 'Microsoft', 'Apple', 'OpenAI', 'IBM', 'Oracle', 'Amazon', 'Google', 'Google']\n"
     ]
    }
   ],
   "source": [
    "it_companies.insert(3, 'OpenAI')\n",
    "\n",
    "print(it_companies)"
   ]
  },
  {
   "cell_type": "markdown",
   "metadata": {},
   "source": [
    "13. Change one of the it_companies names to uppercase (IBM excluded!)"
   ]
  },
  {
   "cell_type": "code",
   "execution_count": 99,
   "metadata": {},
   "outputs": [
    {
     "name": "stdout",
     "output_type": "stream",
     "text": [
      "GOOGLE\n"
     ]
    }
   ],
   "source": [
    "print(it_companies[8].upper())"
   ]
  },
  {
   "cell_type": "markdown",
   "metadata": {},
   "source": [
    "14. Join the it_companies with a string '#; '"
   ]
  },
  {
   "cell_type": "code",
   "execution_count": 100,
   "metadata": {},
   "outputs": [
    {
     "name": "stdout",
     "output_type": "stream",
     "text": [
      "Facebook#; Microsoft#; Apple#; OpenAI#; IBM#; Oracle#; Amazon#; Google#; Google\n"
     ]
    }
   ],
   "source": [
    "joined_it_companies = '#; '.join(it_companies)\n",
    "\n",
    "print(joined_it_companies)"
   ]
  },
  {
   "cell_type": "markdown",
   "metadata": {},
   "source": [
    "15. Check if a certain company exists in the it_companies list."
   ]
  },
  {
   "cell_type": "code",
   "execution_count": 103,
   "metadata": {},
   "outputs": [
    {
     "name": "stdout",
     "output_type": "stream",
     "text": [
      "False\n"
     ]
    }
   ],
   "source": [
    "existe = 'X' in it_companies\n",
    "\n",
    "print(existe)"
   ]
  },
  {
   "cell_type": "markdown",
   "metadata": {},
   "source": [
    "16. Sort the list using the `sort()` method"
   ]
  },
  {
   "cell_type": "code",
   "execution_count": 108,
   "metadata": {},
   "outputs": [
    {
     "name": "stdout",
     "output_type": "stream",
     "text": [
      "['Amazon', 'Apple', 'Facebook', 'Google', 'IBM', 'Microsoft', 'Oracle']\n"
     ]
    }
   ],
   "source": [
    "it_companies = ['Facebook', 'Google', 'Microsoft', 'Apple', 'IBM', 'Oracle', 'Amazon']\n",
    "it_companies.sort()\n",
    "\n",
    "print(it_companies)"
   ]
  },
  {
   "cell_type": "markdown",
   "metadata": {},
   "source": [
    "17. Reverse the list in descending order using `reverse()` method"
   ]
  },
  {
   "cell_type": "code",
   "execution_count": 111,
   "metadata": {},
   "outputs": [
    {
     "name": "stdout",
     "output_type": "stream",
     "text": [
      "['Oracle', 'Microsoft', 'IBM', 'Google', 'Facebook', 'Apple', 'Amazon']\n"
     ]
    }
   ],
   "source": [
    "it_companies.sort(reverse=True)\n",
    "\n",
    "print(it_companies)"
   ]
  },
  {
   "cell_type": "markdown",
   "metadata": {},
   "source": [
    "18. Slice out the first 3 companies from the list"
   ]
  },
  {
   "cell_type": "code",
   "execution_count": 113,
   "metadata": {},
   "outputs": [
    {
     "name": "stdout",
     "output_type": "stream",
     "text": [
      "['IBM', 'Google', 'Facebook', 'Apple', 'Amazon']\n"
     ]
    }
   ],
   "source": [
    "cortada = it_companies[2:]\n",
    "\n",
    "print(cortada)"
   ]
  },
  {
   "cell_type": "markdown",
   "metadata": {},
   "source": [
    "19. Slice out the last 3 companies from the list"
   ]
  },
  {
   "cell_type": "code",
   "execution_count": 117,
   "metadata": {},
   "outputs": [
    {
     "name": "stdout",
     "output_type": "stream",
     "text": [
      "['Oracle', 'Microsoft', 'IBM', 'Google']\n"
     ]
    }
   ],
   "source": [
    "len(it_companies)\n",
    "cortada2 = it_companies[:4]\n",
    "\n",
    "print(cortada2)"
   ]
  },
  {
   "cell_type": "markdown",
   "metadata": {},
   "source": [
    "20. Slice out the middle IT company or companies from the list"
   ]
  },
  {
   "cell_type": "code",
   "execution_count": 124,
   "metadata": {},
   "outputs": [
    {
     "name": "stdout",
     "output_type": "stream",
     "text": [
      "['Oracle', 'Microsoft', 'IBM', 'Facebook', 'Apple', 'Amazon']\n"
     ]
    }
   ],
   "source": [
    "cortada3 = it_companies[0:3]\n",
    "cortada4 = it_companies[4:7]\n",
    "\n",
    "middleCompany = cortada3+cortada4\n",
    "\n",
    "print(middleCompany)"
   ]
  },
  {
   "cell_type": "markdown",
   "metadata": {},
   "source": [
    "21. Remove the first IT company from the list"
   ]
  },
  {
   "cell_type": "code",
   "execution_count": 128,
   "metadata": {},
   "outputs": [
    {
     "name": "stdout",
     "output_type": "stream",
     "text": [
      "['Microsoft', 'IBM', 'Google', 'Facebook', 'Apple', 'Amazon']\n"
     ]
    }
   ],
   "source": [
    "print(it_companies)"
   ]
  },
  {
   "cell_type": "code",
   "execution_count": 129,
   "metadata": {},
   "outputs": [
    {
     "name": "stdout",
     "output_type": "stream",
     "text": [
      "['IBM', 'Google', 'Facebook', 'Apple', 'Amazon']\n"
     ]
    }
   ],
   "source": [
    "it_companies.remove('Microsoft')\n",
    "\n",
    "print(it_companies)"
   ]
  },
  {
   "cell_type": "markdown",
   "metadata": {},
   "source": [
    "22. Remove the middle IT company or companies from the list"
   ]
  },
  {
   "cell_type": "code",
   "execution_count": 130,
   "metadata": {},
   "outputs": [
    {
     "name": "stdout",
     "output_type": "stream",
     "text": [
      "['IBM', 'Google', 'Apple', 'Amazon']\n"
     ]
    }
   ],
   "source": [
    "it_companies.remove('Facebook')\n",
    "\n",
    "print(it_companies)"
   ]
  },
  {
   "cell_type": "markdown",
   "metadata": {},
   "source": [
    "23. Remove the last IT company from the list"
   ]
  },
  {
   "cell_type": "code",
   "execution_count": 131,
   "metadata": {},
   "outputs": [
    {
     "name": "stdout",
     "output_type": "stream",
     "text": [
      "['IBM', 'Google', 'Apple']\n"
     ]
    }
   ],
   "source": [
    "it_companies.remove('Amazon')\n",
    "\n",
    "print(it_companies)"
   ]
  },
  {
   "cell_type": "markdown",
   "metadata": {},
   "source": [
    "24. Remove all IT companies from the list"
   ]
  },
  {
   "cell_type": "code",
   "execution_count": 133,
   "metadata": {},
   "outputs": [
    {
     "name": "stdout",
     "output_type": "stream",
     "text": [
      "[]\n"
     ]
    }
   ],
   "source": [
    "it_companies.clear()\n",
    "\n",
    "print(it_companies)"
   ]
  },
  {
   "cell_type": "markdown",
   "metadata": {},
   "source": [
    "25. Destroy the IT companies list"
   ]
  },
  {
   "cell_type": "code",
   "execution_count": 134,
   "metadata": {},
   "outputs": [],
   "source": [
    "del it_companies"
   ]
  },
  {
   "cell_type": "markdown",
   "metadata": {},
   "source": [
    "26. Join the following lists:\n",
    "- front_end = ['HTML', 'CSS', 'JS', 'React', 'Redux']\n",
    "- back_end = ['Node','Express', 'MongoDB']"
   ]
  },
  {
   "cell_type": "code",
   "execution_count": 135,
   "metadata": {},
   "outputs": [
    {
     "name": "stdout",
     "output_type": "stream",
     "text": [
      "['HTML', 'CSS', 'JS', 'React', 'Redux', 'Node', 'Express', 'MongoDB']\n"
     ]
    }
   ],
   "source": [
    "front_end = ['HTML', 'CSS', 'JS', 'React', 'Redux']\n",
    "back_end = ['Node','Express', 'MongoDB']\n",
    "\n",
    "front_end.extend(back_end)\n",
    "\n",
    "print(front_end)"
   ]
  },
  {
   "cell_type": "markdown",
   "metadata": {},
   "source": [
    "After joining the lists in question 26, copy the joined list and assign it to a variable full_stack, then insert Python and SQL after Redux."
   ]
  },
  {
   "cell_type": "code",
   "execution_count": 136,
   "metadata": {},
   "outputs": [
    {
     "name": "stdout",
     "output_type": "stream",
     "text": [
      "['HTML', 'CSS', 'JS', 'React', 'Redux', 'Node', 'Express', 'MongoDB']\n"
     ]
    }
   ],
   "source": [
    "full_stack = front_end.copy()\n",
    "\n",
    "print(full_stack)"
   ]
  },
  {
   "cell_type": "code",
   "execution_count": 138,
   "metadata": {},
   "outputs": [],
   "source": [
    "full_stack.insert(5, 'Python')"
   ]
  },
  {
   "cell_type": "code",
   "execution_count": 139,
   "metadata": {},
   "outputs": [],
   "source": [
    "full_stack.insert(6, 'SQL')"
   ]
  },
  {
   "cell_type": "code",
   "execution_count": 140,
   "metadata": {},
   "outputs": [
    {
     "name": "stdout",
     "output_type": "stream",
     "text": [
      "['HTML', 'CSS', 'JS', 'React', 'Redux', 'Python', 'SQL', 'Node', 'Express', 'MongoDB']\n"
     ]
    }
   ],
   "source": [
    "print(full_stack)"
   ]
  },
  {
   "cell_type": "markdown",
   "metadata": {},
   "source": [
    "### LEVEL 2\n",
    "\n",
    "1. The following is a list of 10 students ages: ages = [19, 22, 19, 24, 20, 25, 26, 24, 25, 24].\n",
    "- Sort the list and find the min and max age"
   ]
  },
  {
   "cell_type": "code",
   "execution_count": 141,
   "metadata": {},
   "outputs": [
    {
     "name": "stdout",
     "output_type": "stream",
     "text": [
      "[19, 19, 20, 22, 24, 24, 24, 25, 25, 26]\n"
     ]
    }
   ],
   "source": [
    "ages = [19, 22, 19, 24, 20, 25, 26, 24, 25, 24]\n",
    "\n",
    "ages.sort()\n",
    "\n",
    "print(ages)"
   ]
  },
  {
   "cell_type": "code",
   "execution_count": 142,
   "metadata": {},
   "outputs": [
    {
     "name": "stdout",
     "output_type": "stream",
     "text": [
      "10\n"
     ]
    }
   ],
   "source": [
    "print(len(ages))"
   ]
  },
  {
   "cell_type": "code",
   "execution_count": 144,
   "metadata": {},
   "outputs": [
    {
     "name": "stdout",
     "output_type": "stream",
     "text": [
      "19\n",
      "26\n"
     ]
    }
   ],
   "source": [
    "min_age = ages[0]\n",
    "max_age = ages[9]\n",
    "\n",
    "print(min_age)\n",
    "print(max_age)"
   ]
  },
  {
   "cell_type": "markdown",
   "metadata": {},
   "source": [
    "- Add the min age and the max age again to the list"
   ]
  },
  {
   "cell_type": "code",
   "execution_count": 145,
   "metadata": {},
   "outputs": [],
   "source": [
    "ages.append(19)"
   ]
  },
  {
   "cell_type": "code",
   "execution_count": 146,
   "metadata": {},
   "outputs": [],
   "source": [
    "ages.append(26)"
   ]
  },
  {
   "cell_type": "markdown",
   "metadata": {},
   "source": [
    "- Find the median age (one middle item or two middle items divided by two)"
   ]
  },
  {
   "cell_type": "code",
   "execution_count": 157,
   "metadata": {},
   "outputs": [
    {
     "name": "stdout",
     "output_type": "stream",
     "text": [
      "24\n"
     ]
    }
   ],
   "source": [
    "print(ages[5])"
   ]
  },
  {
   "cell_type": "markdown",
   "metadata": {},
   "source": [
    "- Find the average age (sum of all items divided by their number )"
   ]
  },
  {
   "cell_type": "code",
   "execution_count": 158,
   "metadata": {},
   "outputs": [
    {
     "name": "stdout",
     "output_type": "stream",
     "text": [
      "24.818181818181817\n"
     ]
    }
   ],
   "source": [
    "median = sum(ages)/11\n",
    "\n",
    "print(median)"
   ]
  },
  {
   "cell_type": "markdown",
   "metadata": {},
   "source": [
    "- Find the range of the ages (max minus min)"
   ]
  },
  {
   "cell_type": "code",
   "execution_count": 159,
   "metadata": {},
   "outputs": [
    {
     "name": "stdout",
     "output_type": "stream",
     "text": [
      "7\n"
     ]
    }
   ],
   "source": [
    "age_range = max_age - min_age\n",
    "\n",
    "print(age_range)"
   ]
  },
  {
   "cell_type": "markdown",
   "metadata": {},
   "source": [
    "- Compare the value of (min - average) and (max - average), use abs() method"
   ]
  },
  {
   "cell_type": "code",
   "execution_count": 164,
   "metadata": {},
   "outputs": [
    {
     "name": "stdout",
     "output_type": "stream",
     "text": [
      "True\n",
      "False\n"
     ]
    }
   ],
   "source": [
    "compare1 = abs(max_age) >= abs(median)\n",
    "compare2 = abs(min_age) >= abs(median)\n",
    "\n",
    "print(compare1)\n",
    "print(compare2)"
   ]
  },
  {
   "cell_type": "markdown",
   "metadata": {},
   "source": [
    "2. Find the middle country(ies) in the countries list."
   ]
  },
  {
   "cell_type": "code",
   "execution_count": 165,
   "metadata": {},
   "outputs": [],
   "source": [
    "countries = [\n",
    "'Afghanistan',\n",
    "'Albania',\n",
    "'Algeria',\n",
    "'Andorra',\n",
    "'Angola',\n",
    "'Antigua and Barbuda',\n",
    "'Argentina',\n",
    "'Armenia',\n",
    "'Australia',\n",
    "'Austria',\n",
    "'Azerbaijan',\n",
    "'Bahamas',\n",
    "'Bahrain',\n",
    "'Bangladesh',\n",
    "'Barbados',\n",
    "'Belarus',\n",
    "'Belgium',\n",
    "'Belize',\n",
    "'Benin',\n",
    "'Bhutan',\n",
    "'Bolivia',\n",
    "'Bosnia and Herzegovina',\n",
    "'Botswana',\n",
    "'Brazil',\n",
    "'Brunei',\n",
    "'Bulgaria',\n",
    "'Burkina Faso',\n",
    "'Burundi',\n",
    "'Cambodia',\n",
    "'Cameroon',\n",
    "'Canada',\n",
    "'Cape Verde',\n",
    "'Central African Republic',\n",
    "'Chad',\n",
    "'Chile',\n",
    "'China',\n",
    "'Colombi',\n",
    "'Comoros',\n",
    "'Congo (Brazzaville)',\n",
    "'Congo',\n",
    "'Costa Rica',\n",
    "\"Cote d'Ivoire\",\n",
    "'Croatia',\n",
    "'Cuba',\n",
    "'Cyprus',\n",
    "'Czech Republic',\n",
    "'Denmark',\n",
    "'Djibouti',\n",
    "'Dominica',\n",
    "'Dominican Republic',\n",
    "'East Timor (Timor Timur)',\n",
    "'Ecuador',\n",
    "'Egypt',\n",
    "'El Salvador',\n",
    "'Equatorial Guinea',\n",
    "'Eritrea',\n",
    "'Estonia',\n",
    "'Ethiopia',\n",
    "'Fiji',\n",
    "'Finland',\n",
    "'France',\n",
    "'Gabon',\n",
    "'Gambia, The',\n",
    "'Georgia',\n",
    "'Germany',\n",
    "'Ghana',\n",
    "'Greece',\n",
    "'Grenada',\n",
    "'Guatemala',\n",
    "'Guinea',\n",
    "'Guinea-Bissau',\n",
    "'Guyana',\n",
    "'Haiti',\n",
    "'Honduras',\n",
    "'Hungary',\n",
    "'Iceland',\n",
    "'India',\n",
    "'Indonesia',\n",
    "'Iran',\n",
    "'Iraq',\n",
    "'Ireland',\n",
    "'Israel',\n",
    "'Italy',\n",
    "'Jamaica',\n",
    "'Japan',\n",
    "'Jordan',\n",
    "'Kazakhstan',\n",
    "'Kenya',\n",
    "'Kiribati',\n",
    "'Korea, North',\n",
    "'Korea, South',\n",
    "'Kuwait',\n",
    "'Kyrgyzstan',\n",
    "'Laos',\n",
    "'Latvia',\n",
    "'Lebanon',\n",
    "'Lesotho',\n",
    "'Liberia',\n",
    "'Libya',\n",
    "'Liechtenstein',\n",
    "'Lithuania',\n",
    "'Luxembourg',\n",
    "'Macedonia',\n",
    "'Madagascar',\n",
    "'Malawi',\n",
    "'Malaysia',\n",
    "'Maldives',\n",
    "'Mali',\n",
    "'Malta',\n",
    "'Marshall Islands',\n",
    "'Mauritania',\n",
    "'Mauritius',\n",
    "'Mexico',\n",
    "'Micronesia',\n",
    "'Moldova',\n",
    "'Monaco',\n",
    "'Mongolia',\n",
    "'Morocco',\n",
    "'Mozambique',\n",
    "'Myanmar',\n",
    "'Namibia',\n",
    "'Nauru',\n",
    "'Nepal',\n",
    "'Netherlands',\n",
    "'New Zealand',\n",
    "'Nicaragua',\n",
    "'Niger',\n",
    "'Nigeria',\n",
    "'Norway',\n",
    "'Oman',\n",
    "'Pakistan',\n",
    "'Palau',\n",
    "'Panama',\n",
    "'Papua New Guinea',\n",
    "'Paraguay',\n",
    "'Peru',\n",
    "'Philippines',\n",
    "'Poland',\n",
    "'Portugal',\n",
    "'Qatar',\n",
    "'Romania',\n",
    "'Russia',\n",
    "'Rwanda',\n",
    "'Saint Kitts and Nevis',\n",
    "'Saint Lucia',\n",
    "'Saint Vincent',\n",
    "'Samoa',\n",
    "'San Marino',\n",
    "'Sao Tome and Principe',\n",
    "'Saudi Arabia',\n",
    "'Senegal',\n",
    "'Serbia and Montenegro',\n",
    "'Seychelles',\n",
    "'Sierra Leone',\n",
    "'Singapore',\n",
    "'Slovakia',\n",
    "'Slovenia',\n",
    "'Solomon Islands',\n",
    "'Somalia',\n",
    "'South Africa',\n",
    "'Spain',\n",
    "'Sri Lanka',\n",
    "'Sudan',\n",
    "'Suriname',\n",
    "'Swaziland',\n",
    "'Sweden',\n",
    "'Switzerland',\n",
    "'Syria',\n",
    "'Taiwan',\n",
    "'Tajikistan',\n",
    "'Tanzania',\n",
    "'Thailand',\n",
    "'Togo',\n",
    "'Tonga',\n",
    "'Trinidad and Tobago',\n",
    "'Tunisia',\n",
    "'Turkey',\n",
    "'Turkmenistan',\n",
    "'Tuvalu',\n",
    "'Uganda',\n",
    "'Ukraine',\n",
    "'United Arab Emirates',\n",
    "'United Kingdom',\n",
    "'United States',\n",
    "'Uruguay',\n",
    "'Uzbekistan',\n",
    "'Vanuatu',\n",
    "'Vatican City',\n",
    "'Venezuela',\n",
    "'Vietnam',\n",
    "'Yemen',\n",
    "'Zambia',\n",
    "'Zimbabwe',\n",
    "];"
   ]
  },
  {
   "cell_type": "code",
   "execution_count": 172,
   "metadata": {},
   "outputs": [
    {
     "name": "stdout",
     "output_type": "stream",
     "text": [
      "96.0\n",
      "Lesotho\n"
     ]
    }
   ],
   "source": [
    "ultimoIndicePaises = len(countries) - 1\n",
    "\n",
    "print(ultimoIndicePaises/2)\n",
    "print(countries[96])"
   ]
  },
  {
   "cell_type": "markdown",
   "metadata": {},
   "source": [
    "3. Divide the countries list into two equal lists if it is even if not one more country for the first half."
   ]
  },
  {
   "cell_type": "code",
   "execution_count": 174,
   "metadata": {},
   "outputs": [],
   "source": [
    "first_half = countries[0:96]\n",
    "second_half = countries[96:]"
   ]
  },
  {
   "cell_type": "markdown",
   "metadata": {},
   "source": [
    "4. ['China', 'Russia', 'USA', 'Finland', 'Sweden', 'Norway', 'Denmark']. Unpack the first three countries and the rest as scandic countries."
   ]
  },
  {
   "cell_type": "code",
   "execution_count": 176,
   "metadata": {},
   "outputs": [
    {
     "name": "stdout",
     "output_type": "stream",
     "text": [
      "['China', 'Russia', 'USA', 'Finland', 'Sweden', 'Norway', 'Denmark']\n",
      "China\n",
      "Russia\n",
      "USA\n",
      "['Finland', 'Sweden', 'Norway', 'Denmark']\n"
     ]
    }
   ],
   "source": [
    "paises_exercicio = ['China', 'Russia', 'USA', 'Finland', 'Sweden', 'Norway', 'Denmark']\n",
    "\n",
    "first_country, second_country, third_country, *scandic = paises_exercicio\n",
    "\n",
    "print(paises_exercicio)\n",
    "print(first_country)\n",
    "print(second_country)\n",
    "print(third_country)\n",
    "print(scandic)"
   ]
  }
 ],
 "metadata": {
  "kernelspec": {
   "display_name": "Python 3",
   "language": "python",
   "name": "python3"
  },
  "language_info": {
   "codemirror_mode": {
    "name": "ipython",
    "version": 3
   },
   "file_extension": ".py",
   "mimetype": "text/x-python",
   "name": "python",
   "nbconvert_exporter": "python",
   "pygments_lexer": "ipython3",
   "version": "3.12.3"
  }
 },
 "nbformat": 4,
 "nbformat_minor": 2
}
